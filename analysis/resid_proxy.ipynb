{
 "cells": [
  {
   "cell_type": "code",
   "execution_count": 1,
   "id": "70635f9d",
   "metadata": {},
   "outputs": [
    {
     "name": "stderr",
     "output_type": "stream",
     "text": [
      "2025-10-17 12:11:36.427204: I tensorflow/core/util/port.cc:153] oneDNN custom operations are on. You may see slightly different numerical results due to floating-point round-off errors from different computation orders. To turn them off, set the environment variable `TF_ENABLE_ONEDNN_OPTS=0`.\n",
      "2025-10-17 12:11:38.217332: E external/local_xla/xla/stream_executor/cuda/cuda_fft.cc:467] Unable to register cuFFT factory: Attempting to register factory for plugin cuFFT when one has already been registered\n",
      "WARNING: All log messages before absl::InitializeLog() is called are written to STDERR\n",
      "E0000 00:00:1760721099.436926  517110 cuda_dnn.cc:8579] Unable to register cuDNN factory: Attempting to register factory for plugin cuDNN when one has already been registered\n",
      "E0000 00:00:1760721099.622581  517110 cuda_blas.cc:1407] Unable to register cuBLAS factory: Attempting to register factory for plugin cuBLAS when one has already been registered\n",
      "W0000 00:00:1760721101.774022  517110 computation_placer.cc:177] computation placer already registered. Please check linkage and avoid linking the same target more than once.\n",
      "W0000 00:00:1760721101.774067  517110 computation_placer.cc:177] computation placer already registered. Please check linkage and avoid linking the same target more than once.\n",
      "W0000 00:00:1760721101.774070  517110 computation_placer.cc:177] computation placer already registered. Please check linkage and avoid linking the same target more than once.\n",
      "W0000 00:00:1760721101.774071  517110 computation_placer.cc:177] computation placer already registered. Please check linkage and avoid linking the same target more than once.\n",
      "2025-10-17 12:11:41.780212: I tensorflow/core/platform/cpu_feature_guard.cc:210] This TensorFlow binary is optimized to use available CPU instructions in performance-critical operations.\n",
      "To enable the following instructions: AVX2 AVX512F AVX512_VNNI AVX512_BF16 AVX512_FP16 AVX_VNNI AMX_TILE AMX_INT8 AMX_BF16 FMA, in other operations, rebuild TensorFlow with the appropriate compiler flags.\n",
      "[nltk_data] Downloading package punkt to\n",
      "[nltk_data]     /mnt/ws/home/zstuddiford/nltk_data...\n",
      "[nltk_data]   Package punkt is already up-to-date!\n"
     ]
    }
   ],
   "source": [
    "from torch import Tensor, nn\n",
    "\n",
    "from torch.distributions.categorical import Categorical\n",
    "from torch.nn import functional as F\n",
    "from tqdm.auto import tqdm\n",
    "from tqdm import tqdm\n",
    "import numpy as np\n",
    "import pandas as pd\n",
    "import gc\n",
    "import requests\n",
    "import os\n",
    "import sys\n",
    "import json\n",
    "from sklearn.model_selection import train_test_split\n",
    "\n",
    "from functools import wraps as _wraps\n",
    "from typing import List, Tuple, Literal, Optional, Union, Sequence, Any\n",
    "import atexit as _atexit\n",
    "import math\n",
    "import os\n",
    "import sys\n",
    "import json\n",
    "from collections import defaultdict\n",
    "import time\n",
    "import gc\n",
    "import requests\n",
    "import numpy as np\n",
    "import torch\n",
    "import torch.nn.functional as F\n",
    "from torch import Tensor, nn\n",
    "from tqdm.auto import tqdm\n",
    "from tqdm import tqdm\n",
    "\n",
    "\n",
    "from transformers import (\n",
    "    AutoTokenizer,\n",
    "    AutoModelForCausalLM,\n",
    "    AutoModelForSeq2SeqLM,\n",
    "    AutoConfig,\n",
    "    pipeline,\n",
    "    BitsAndBytesConfig,\n",
    "    # Falcon VLM (LLaVA-Next style)\n",
    "    LlavaNextForConditionalGeneration,\n",
    "    LlavaNextProcessor,\n",
    ")\n",
    "\n",
    "from datasets import load_dataset\n",
    "\n",
    "import nltk\n",
    "nltk.download('punkt')\n",
    "from nltk.tokenize import sent_tokenize"
   ]
  },
  {
   "cell_type": "markdown",
   "id": "638606b2",
   "metadata": {
    "notebookRunGroups": {
     "groupValue": "2"
    }
   },
   "source": [
    "# Residual stream embeddings as a proxy for low-d triplet behavioral judgments"
   ]
  },
  {
   "cell_type": "code",
   "execution_count": 2,
   "id": "6de576d7",
   "metadata": {},
   "outputs": [
    {
     "name": "stderr",
     "output_type": "stream",
     "text": [
      "`torch_dtype` is deprecated! Use `dtype` instead!\n"
     ]
    },
    {
     "data": {
      "application/vnd.jupyter.widget-view+json": {
       "model_id": "b37e0884259540ffbebb9ca72b176311",
       "version_major": 2,
       "version_minor": 0
      },
      "text/plain": [
       "Loading checkpoint shards:   0%|          | 0/12 [00:00<?, ?it/s]"
      ]
     },
     "metadata": {},
     "output_type": "display_data"
    }
   ],
   "source": [
    "llm = AutoModelForCausalLM.from_pretrained(\n",
    "                \"google/gemma-3-27b-it\",\n",
    "                cache_dir=\"/mnt/dv/wid/projects3/Rogers-muri-human-ai/zstuddiford\",\n",
    "                torch_dtype=\"auto\",\n",
    "                trust_remote_code=True,\n",
    "                device_map={\"\": \"cuda:0\"},   # <-- force all layers on GPU\n",
    "            )\n",
    "\n"
   ]
  },
  {
   "cell_type": "code",
   "execution_count": 3,
   "id": "2ba74279",
   "metadata": {},
   "outputs": [],
   "source": [
    "tokenizer = AutoTokenizer.from_pretrained(\"google/gemma-3-27b-it\", cache_dir=\"/mnt/dv/wid/projects3/Rogers-muri-human-ai/zstuddiford\", trust_remote_code=True)\n"
   ]
  },
  {
   "cell_type": "code",
   "execution_count": 1,
   "id": "8c5b4c43",
   "metadata": {},
   "outputs": [],
   "source": [
    "def article_to_sentences(article_text):\n",
    "    return sent_tokenize(article_text)"
   ]
  },
  {
   "cell_type": "code",
   "execution_count": 5,
   "id": "790051ff",
   "metadata": {},
   "outputs": [],
   "source": [
    "embed_ref = pd.read_csv(\"model_triplet_output_gemma-3-27b-it_THINGS_embedding.csv\")"
   ]
  },
  {
   "cell_type": "code",
   "execution_count": 6,
   "id": "df402160",
   "metadata": {},
   "outputs": [
    {
     "data": {
      "text/html": [
       "<div>\n",
       "<style scoped>\n",
       "    .dataframe tbody tr th:only-of-type {\n",
       "        vertical-align: middle;\n",
       "    }\n",
       "\n",
       "    .dataframe tbody tr th {\n",
       "        vertical-align: top;\n",
       "    }\n",
       "\n",
       "    .dataframe thead th {\n",
       "        text-align: right;\n",
       "    }\n",
       "</style>\n",
       "<table border=\"1\" class=\"dataframe\">\n",
       "  <thead>\n",
       "    <tr style=\"text-align: right;\">\n",
       "      <th></th>\n",
       "      <th>item</th>\n",
       "      <th>id</th>\n",
       "      <th>dim_0</th>\n",
       "      <th>dim_1</th>\n",
       "      <th>dim_2</th>\n",
       "      <th>dim_3</th>\n",
       "      <th>dim_4</th>\n",
       "      <th>dim_5</th>\n",
       "      <th>dim_6</th>\n",
       "      <th>dim_7</th>\n",
       "      <th>...</th>\n",
       "      <th>dim_20</th>\n",
       "      <th>dim_21</th>\n",
       "      <th>dim_22</th>\n",
       "      <th>dim_23</th>\n",
       "      <th>dim_24</th>\n",
       "      <th>dim_25</th>\n",
       "      <th>dim_26</th>\n",
       "      <th>dim_27</th>\n",
       "      <th>dim_28</th>\n",
       "      <th>dim_29</th>\n",
       "    </tr>\n",
       "  </thead>\n",
       "  <tbody>\n",
       "    <tr>\n",
       "      <th>0</th>\n",
       "      <td>airbag</td>\n",
       "      <td>0</td>\n",
       "      <td>-0.121638</td>\n",
       "      <td>-0.115255</td>\n",
       "      <td>0.056533</td>\n",
       "      <td>-0.008403</td>\n",
       "      <td>0.136553</td>\n",
       "      <td>0.020736</td>\n",
       "      <td>0.093908</td>\n",
       "      <td>-0.010561</td>\n",
       "      <td>...</td>\n",
       "      <td>0.000085</td>\n",
       "      <td>0.085156</td>\n",
       "      <td>-0.103403</td>\n",
       "      <td>-0.097392</td>\n",
       "      <td>-0.074894</td>\n",
       "      <td>0.143406</td>\n",
       "      <td>0.026868</td>\n",
       "      <td>0.053514</td>\n",
       "      <td>0.002504</td>\n",
       "      <td>0.135532</td>\n",
       "    </tr>\n",
       "    <tr>\n",
       "      <th>1</th>\n",
       "      <td>album</td>\n",
       "      <td>1</td>\n",
       "      <td>0.011931</td>\n",
       "      <td>0.068101</td>\n",
       "      <td>0.062446</td>\n",
       "      <td>0.005122</td>\n",
       "      <td>-0.001907</td>\n",
       "      <td>-0.077468</td>\n",
       "      <td>-0.096201</td>\n",
       "      <td>0.070769</td>\n",
       "      <td>...</td>\n",
       "      <td>0.073284</td>\n",
       "      <td>-0.015280</td>\n",
       "      <td>-0.008695</td>\n",
       "      <td>-0.060691</td>\n",
       "      <td>0.063421</td>\n",
       "      <td>0.079019</td>\n",
       "      <td>-0.017326</td>\n",
       "      <td>0.096959</td>\n",
       "      <td>0.066413</td>\n",
       "      <td>-0.030845</td>\n",
       "    </tr>\n",
       "    <tr>\n",
       "      <th>2</th>\n",
       "      <td>appetizer</td>\n",
       "      <td>2</td>\n",
       "      <td>0.082968</td>\n",
       "      <td>-0.039242</td>\n",
       "      <td>0.122695</td>\n",
       "      <td>0.047040</td>\n",
       "      <td>-0.135993</td>\n",
       "      <td>-0.140231</td>\n",
       "      <td>-0.056439</td>\n",
       "      <td>0.131733</td>\n",
       "      <td>...</td>\n",
       "      <td>0.111166</td>\n",
       "      <td>-0.135537</td>\n",
       "      <td>0.128708</td>\n",
       "      <td>0.087017</td>\n",
       "      <td>0.127686</td>\n",
       "      <td>-0.091639</td>\n",
       "      <td>-0.109793</td>\n",
       "      <td>0.052131</td>\n",
       "      <td>0.132931</td>\n",
       "      <td>-0.144952</td>\n",
       "    </tr>\n",
       "    <tr>\n",
       "      <th>3</th>\n",
       "      <td>applesauce</td>\n",
       "      <td>3</td>\n",
       "      <td>0.092454</td>\n",
       "      <td>-0.044395</td>\n",
       "      <td>0.137838</td>\n",
       "      <td>0.053505</td>\n",
       "      <td>-0.167254</td>\n",
       "      <td>-0.157231</td>\n",
       "      <td>-0.069313</td>\n",
       "      <td>0.139696</td>\n",
       "      <td>...</td>\n",
       "      <td>0.120897</td>\n",
       "      <td>-0.153029</td>\n",
       "      <td>0.151641</td>\n",
       "      <td>0.129688</td>\n",
       "      <td>0.145013</td>\n",
       "      <td>-0.132255</td>\n",
       "      <td>-0.088039</td>\n",
       "      <td>0.011386</td>\n",
       "      <td>0.153218</td>\n",
       "      <td>-0.149624</td>\n",
       "    </tr>\n",
       "    <tr>\n",
       "      <th>4</th>\n",
       "      <td>backscratcher</td>\n",
       "      <td>4</td>\n",
       "      <td>-0.004857</td>\n",
       "      <td>0.155154</td>\n",
       "      <td>-0.143333</td>\n",
       "      <td>-0.054272</td>\n",
       "      <td>-0.004501</td>\n",
       "      <td>0.055762</td>\n",
       "      <td>-0.050834</td>\n",
       "      <td>-0.125288</td>\n",
       "      <td>...</td>\n",
       "      <td>-0.058474</td>\n",
       "      <td>0.097709</td>\n",
       "      <td>-0.019686</td>\n",
       "      <td>-0.025476</td>\n",
       "      <td>-0.051457</td>\n",
       "      <td>-0.016363</td>\n",
       "      <td>0.069999</td>\n",
       "      <td>-0.070621</td>\n",
       "      <td>-0.124620</td>\n",
       "      <td>0.013432</td>\n",
       "    </tr>\n",
       "    <tr>\n",
       "      <th>...</th>\n",
       "      <td>...</td>\n",
       "      <td>...</td>\n",
       "      <td>...</td>\n",
       "      <td>...</td>\n",
       "      <td>...</td>\n",
       "      <td>...</td>\n",
       "      <td>...</td>\n",
       "      <td>...</td>\n",
       "      <td>...</td>\n",
       "      <td>...</td>\n",
       "      <td>...</td>\n",
       "      <td>...</td>\n",
       "      <td>...</td>\n",
       "      <td>...</td>\n",
       "      <td>...</td>\n",
       "      <td>...</td>\n",
       "      <td>...</td>\n",
       "      <td>...</td>\n",
       "      <td>...</td>\n",
       "      <td>...</td>\n",
       "      <td>...</td>\n",
       "    </tr>\n",
       "    <tr>\n",
       "      <th>123</th>\n",
       "      <td>veil</td>\n",
       "      <td>123</td>\n",
       "      <td>0.007029</td>\n",
       "      <td>0.005607</td>\n",
       "      <td>-0.017702</td>\n",
       "      <td>-0.010985</td>\n",
       "      <td>0.009928</td>\n",
       "      <td>-0.061234</td>\n",
       "      <td>-0.012244</td>\n",
       "      <td>0.054958</td>\n",
       "      <td>...</td>\n",
       "      <td>0.046682</td>\n",
       "      <td>-0.044822</td>\n",
       "      <td>0.064074</td>\n",
       "      <td>0.041411</td>\n",
       "      <td>0.036398</td>\n",
       "      <td>0.048793</td>\n",
       "      <td>0.017889</td>\n",
       "      <td>-0.012089</td>\n",
       "      <td>0.028138</td>\n",
       "      <td>0.013530</td>\n",
       "    </tr>\n",
       "    <tr>\n",
       "      <th>124</th>\n",
       "      <td>visor</td>\n",
       "      <td>124</td>\n",
       "      <td>-0.069187</td>\n",
       "      <td>-0.023381</td>\n",
       "      <td>-0.070359</td>\n",
       "      <td>-0.053481</td>\n",
       "      <td>0.116526</td>\n",
       "      <td>0.061199</td>\n",
       "      <td>0.084842</td>\n",
       "      <td>-0.013193</td>\n",
       "      <td>...</td>\n",
       "      <td>-0.038636</td>\n",
       "      <td>0.036260</td>\n",
       "      <td>-0.050651</td>\n",
       "      <td>-0.046536</td>\n",
       "      <td>-0.050253</td>\n",
       "      <td>0.124597</td>\n",
       "      <td>0.042514</td>\n",
       "      <td>0.016810</td>\n",
       "      <td>-0.068835</td>\n",
       "      <td>0.073999</td>\n",
       "    </tr>\n",
       "    <tr>\n",
       "      <th>125</th>\n",
       "      <td>volleyball</td>\n",
       "      <td>125</td>\n",
       "      <td>0.041743</td>\n",
       "      <td>-0.001210</td>\n",
       "      <td>-0.107810</td>\n",
       "      <td>0.057876</td>\n",
       "      <td>0.110557</td>\n",
       "      <td>0.096796</td>\n",
       "      <td>0.143934</td>\n",
       "      <td>0.087572</td>\n",
       "      <td>...</td>\n",
       "      <td>-0.108638</td>\n",
       "      <td>-0.069324</td>\n",
       "      <td>-0.138552</td>\n",
       "      <td>-0.092597</td>\n",
       "      <td>-0.045739</td>\n",
       "      <td>0.121473</td>\n",
       "      <td>-0.059965</td>\n",
       "      <td>0.079909</td>\n",
       "      <td>-0.033339</td>\n",
       "      <td>-0.013740</td>\n",
       "    </tr>\n",
       "    <tr>\n",
       "      <th>126</th>\n",
       "      <td>waffle</td>\n",
       "      <td>126</td>\n",
       "      <td>-0.026252</td>\n",
       "      <td>-0.121747</td>\n",
       "      <td>0.122968</td>\n",
       "      <td>-0.066128</td>\n",
       "      <td>-0.021160</td>\n",
       "      <td>-0.160939</td>\n",
       "      <td>-0.051448</td>\n",
       "      <td>0.197205</td>\n",
       "      <td>...</td>\n",
       "      <td>0.168358</td>\n",
       "      <td>-0.155383</td>\n",
       "      <td>0.143094</td>\n",
       "      <td>0.071714</td>\n",
       "      <td>0.154945</td>\n",
       "      <td>0.055998</td>\n",
       "      <td>0.061067</td>\n",
       "      <td>0.102023</td>\n",
       "      <td>0.140295</td>\n",
       "      <td>-0.072118</td>\n",
       "    </tr>\n",
       "    <tr>\n",
       "      <th>127</th>\n",
       "      <td>wrap</td>\n",
       "      <td>127</td>\n",
       "      <td>-0.040100</td>\n",
       "      <td>-0.069706</td>\n",
       "      <td>0.025427</td>\n",
       "      <td>-0.065866</td>\n",
       "      <td>0.016444</td>\n",
       "      <td>-0.045375</td>\n",
       "      <td>0.000889</td>\n",
       "      <td>0.061543</td>\n",
       "      <td>...</td>\n",
       "      <td>0.062488</td>\n",
       "      <td>-0.041771</td>\n",
       "      <td>0.063316</td>\n",
       "      <td>0.014301</td>\n",
       "      <td>0.047264</td>\n",
       "      <td>0.053622</td>\n",
       "      <td>0.073458</td>\n",
       "      <td>0.036470</td>\n",
       "      <td>0.030231</td>\n",
       "      <td>0.005027</td>\n",
       "    </tr>\n",
       "  </tbody>\n",
       "</table>\n",
       "<p>128 rows × 32 columns</p>\n",
       "</div>"
      ],
      "text/plain": [
       "              item   id     dim_0     dim_1     dim_2     dim_3     dim_4  \\\n",
       "0           airbag    0 -0.121638 -0.115255  0.056533 -0.008403  0.136553   \n",
       "1            album    1  0.011931  0.068101  0.062446  0.005122 -0.001907   \n",
       "2        appetizer    2  0.082968 -0.039242  0.122695  0.047040 -0.135993   \n",
       "3       applesauce    3  0.092454 -0.044395  0.137838  0.053505 -0.167254   \n",
       "4    backscratcher    4 -0.004857  0.155154 -0.143333 -0.054272 -0.004501   \n",
       "..             ...  ...       ...       ...       ...       ...       ...   \n",
       "123           veil  123  0.007029  0.005607 -0.017702 -0.010985  0.009928   \n",
       "124          visor  124 -0.069187 -0.023381 -0.070359 -0.053481  0.116526   \n",
       "125     volleyball  125  0.041743 -0.001210 -0.107810  0.057876  0.110557   \n",
       "126         waffle  126 -0.026252 -0.121747  0.122968 -0.066128 -0.021160   \n",
       "127           wrap  127 -0.040100 -0.069706  0.025427 -0.065866  0.016444   \n",
       "\n",
       "        dim_5     dim_6     dim_7  ...    dim_20    dim_21    dim_22  \\\n",
       "0    0.020736  0.093908 -0.010561  ...  0.000085  0.085156 -0.103403   \n",
       "1   -0.077468 -0.096201  0.070769  ...  0.073284 -0.015280 -0.008695   \n",
       "2   -0.140231 -0.056439  0.131733  ...  0.111166 -0.135537  0.128708   \n",
       "3   -0.157231 -0.069313  0.139696  ...  0.120897 -0.153029  0.151641   \n",
       "4    0.055762 -0.050834 -0.125288  ... -0.058474  0.097709 -0.019686   \n",
       "..        ...       ...       ...  ...       ...       ...       ...   \n",
       "123 -0.061234 -0.012244  0.054958  ...  0.046682 -0.044822  0.064074   \n",
       "124  0.061199  0.084842 -0.013193  ... -0.038636  0.036260 -0.050651   \n",
       "125  0.096796  0.143934  0.087572  ... -0.108638 -0.069324 -0.138552   \n",
       "126 -0.160939 -0.051448  0.197205  ...  0.168358 -0.155383  0.143094   \n",
       "127 -0.045375  0.000889  0.061543  ...  0.062488 -0.041771  0.063316   \n",
       "\n",
       "       dim_23    dim_24    dim_25    dim_26    dim_27    dim_28    dim_29  \n",
       "0   -0.097392 -0.074894  0.143406  0.026868  0.053514  0.002504  0.135532  \n",
       "1   -0.060691  0.063421  0.079019 -0.017326  0.096959  0.066413 -0.030845  \n",
       "2    0.087017  0.127686 -0.091639 -0.109793  0.052131  0.132931 -0.144952  \n",
       "3    0.129688  0.145013 -0.132255 -0.088039  0.011386  0.153218 -0.149624  \n",
       "4   -0.025476 -0.051457 -0.016363  0.069999 -0.070621 -0.124620  0.013432  \n",
       "..        ...       ...       ...       ...       ...       ...       ...  \n",
       "123  0.041411  0.036398  0.048793  0.017889 -0.012089  0.028138  0.013530  \n",
       "124 -0.046536 -0.050253  0.124597  0.042514  0.016810 -0.068835  0.073999  \n",
       "125 -0.092597 -0.045739  0.121473 -0.059965  0.079909 -0.033339 -0.013740  \n",
       "126  0.071714  0.154945  0.055998  0.061067  0.102023  0.140295 -0.072118  \n",
       "127  0.014301  0.047264  0.053622  0.073458  0.036470  0.030231  0.005027  \n",
       "\n",
       "[128 rows x 32 columns]"
      ]
     },
     "execution_count": 6,
     "metadata": {},
     "output_type": "execute_result"
    }
   ],
   "source": [
    "embed_ref"
   ]
  },
  {
   "cell_type": "code",
   "execution_count": 7,
   "id": "72d2fbef",
   "metadata": {},
   "outputs": [],
   "source": [
    "words = embed_ref[\"item\"].astype(str).tolist()\n",
    "target_count = 100\n"
   ]
  },
  {
   "cell_type": "code",
   "execution_count": 8,
   "id": "5ee3b041",
   "metadata": {},
   "outputs": [
    {
     "data": {
      "application/vnd.jupyter.widget-view+json": {
       "model_id": "cd2d9425ccaf4d35991a60a078e6dd38",
       "version_major": 2,
       "version_minor": 0
      },
      "text/plain": [
       "Resolving data files:   0%|          | 0/41 [00:00<?, ?it/s]"
      ]
     },
     "metadata": {},
     "output_type": "display_data"
    }
   ],
   "source": [
    "dataset = load_dataset(\"wikimedia/wikipedia\", \"20231101.en\", split=\"train\", streaming=True)\n"
   ]
  },
  {
   "cell_type": "code",
   "execution_count": 9,
   "id": "2b625449",
   "metadata": {},
   "outputs": [],
   "source": [
    "word_sentences = pd.read_csv(\"wiki_word_sentences.csv\")"
   ]
  },
  {
   "cell_type": "code",
   "execution_count": 55,
   "id": "a10095fd",
   "metadata": {},
   "outputs": [
    {
     "name": "stderr",
     "output_type": "stream",
     "text": [
      "📚 Scanning for 'airbag': 5000article [00:15, 314.18article/s, sentences=1]\n"
     ]
    },
    {
     "name": "stdout",
     "output_type": "stream",
     "text": [
      "⚠️ 'airbag' skipped — 1 unique sentences found after 5000 articles.\n"
     ]
    },
    {
     "name": "stderr",
     "output_type": "stream",
     "text": [
      "📚 Scanning for 'album': 153article [00:01, 108.60article/s, sentences=36]\n"
     ]
    },
    {
     "name": "stdout",
     "output_type": "stream",
     "text": [
      "✅ 'album' complete — 100 unique sentences found.\n"
     ]
    },
    {
     "name": "stderr",
     "output_type": "stream",
     "text": [
      "📚 Scanning for 'appetizer': 5000article [00:15, 314.75article/s, sentences=3]\n"
     ]
    },
    {
     "name": "stdout",
     "output_type": "stream",
     "text": [
      "⚠️ 'appetizer' skipped — 3 unique sentences found after 5000 articles.\n"
     ]
    },
    {
     "name": "stderr",
     "output_type": "stream",
     "text": [
      "📚 Scanning for 'applesauce': 5000article [00:15, 317.46article/s, sentences=0]\n"
     ]
    },
    {
     "name": "stdout",
     "output_type": "stream",
     "text": [
      "⚠️ 'applesauce' skipped — 0 unique sentences found after 5000 articles.\n"
     ]
    },
    {
     "name": "stderr",
     "output_type": "stream",
     "text": [
      "📚 Scanning for 'backscratcher': 5000article [00:15, 319.89article/s, sentences=0]\n"
     ]
    },
    {
     "name": "stdout",
     "output_type": "stream",
     "text": [
      "⚠️ 'backscratcher' skipped — 0 unique sentences found after 5000 articles.\n"
     ]
    },
    {
     "name": "stderr",
     "output_type": "stream",
     "text": [
      "📚 Scanning for 'badger': 5000article [00:15, 318.79article/s, sentences=12]\n"
     ]
    },
    {
     "name": "stdout",
     "output_type": "stream",
     "text": [
      "⚠️ 'badger' skipped — 12 unique sentences found after 5000 articles.\n"
     ]
    },
    {
     "name": "stderr",
     "output_type": "stream",
     "text": [
      "📚 Scanning for 'bag': 3840article [00:14, 270.34article/s, sentences=89]\n"
     ]
    },
    {
     "name": "stdout",
     "output_type": "stream",
     "text": [
      "✅ 'bag' complete — 100 unique sentences found.\n"
     ]
    },
    {
     "name": "stderr",
     "output_type": "stream",
     "text": [
      "📚 Scanning for 'baklava': 5000article [00:16, 309.52article/s, sentences=1]\n"
     ]
    },
    {
     "name": "stdout",
     "output_type": "stream",
     "text": [
      "⚠️ 'baklava' skipped — 1 unique sentences found after 5000 articles.\n"
     ]
    },
    {
     "name": "stderr",
     "output_type": "stream",
     "text": [
      "📚 Scanning for 'banjo': 1629article [00:07, 215.06article/s, sentences=14]\n"
     ]
    },
    {
     "name": "stdout",
     "output_type": "stream",
     "text": [
      "✅ 'banjo' complete — 100 unique sentences found.\n"
     ]
    },
    {
     "name": "stderr",
     "output_type": "stream",
     "text": [
      "📚 Scanning for 'baseball': 406article [00:02, 169.54article/s, sentences=96]\n"
     ]
    },
    {
     "name": "stdout",
     "output_type": "stream",
     "text": [
      "✅ 'baseball' complete — 100 unique sentences found.\n"
     ]
    },
    {
     "name": "stderr",
     "output_type": "stream",
     "text": [
      "📚 Scanning for 'baseball glove': 5000article [00:16, 307.55article/s, sentences=1]\n"
     ]
    },
    {
     "name": "stdout",
     "output_type": "stream",
     "text": [
      "⚠️ 'baseball glove' skipped — 1 unique sentences found after 5000 articles.\n"
     ]
    },
    {
     "name": "stderr",
     "output_type": "stream",
     "text": [
      "📚 Scanning for 'bassinet': 5000article [00:15, 314.65article/s, sentences=0]\n"
     ]
    },
    {
     "name": "stdout",
     "output_type": "stream",
     "text": [
      "⚠️ 'bassinet' skipped — 0 unique sentences found after 5000 articles.\n"
     ]
    },
    {
     "name": "stderr",
     "output_type": "stream",
     "text": [
      "📚 Scanning for 'bassoon': 1795article [00:08, 221.19article/s, sentences=9]\n"
     ]
    },
    {
     "name": "stdout",
     "output_type": "stream",
     "text": [
      "✅ 'bassoon' complete — 100 unique sentences found.\n"
     ]
    },
    {
     "name": "stderr",
     "output_type": "stream",
     "text": [
      "📚 Scanning for 'bathrobe': 5000article [00:16, 303.16article/s, sentences=1]\n"
     ]
    },
    {
     "name": "stdout",
     "output_type": "stream",
     "text": [
      "⚠️ 'bathrobe' skipped — 1 unique sentences found after 5000 articles.\n"
     ]
    },
    {
     "name": "stderr",
     "output_type": "stream",
     "text": [
      "📚 Scanning for 'bathtub': 5000article [00:15, 323.84article/s, sentences=5]\n"
     ]
    },
    {
     "name": "stdout",
     "output_type": "stream",
     "text": [
      "⚠️ 'bathtub' skipped — 5 unique sentences found after 5000 articles.\n"
     ]
    },
    {
     "name": "stderr",
     "output_type": "stream",
     "text": [
      "📚 Scanning for 'beachball': 5000article [00:16, 305.11article/s, sentences=0]\n"
     ]
    },
    {
     "name": "stdout",
     "output_type": "stream",
     "text": [
      "⚠️ 'beachball' skipped — 0 unique sentences found after 5000 articles.\n"
     ]
    },
    {
     "name": "stderr",
     "output_type": "stream",
     "text": [
      "📚 Scanning for 'beanbag': 5000article [00:16, 312.12article/s, sentences=0]\n"
     ]
    },
    {
     "name": "stdout",
     "output_type": "stream",
     "text": [
      "⚠️ 'beanbag' skipped — 0 unique sentences found after 5000 articles.\n"
     ]
    },
    {
     "name": "stderr",
     "output_type": "stream",
     "text": [
      "📚 Scanning for 'beanie': 5000article [00:15, 322.84article/s, sentences=4]\n"
     ]
    },
    {
     "name": "stdout",
     "output_type": "stream",
     "text": [
      "⚠️ 'beanie' skipped — 4 unique sentences found after 5000 articles.\n"
     ]
    },
    {
     "name": "stderr",
     "output_type": "stream",
     "text": [
      "📚 Scanning for 'bear': 797article [00:03, 205.20article/s, sentences=99]\n"
     ]
    },
    {
     "name": "stdout",
     "output_type": "stream",
     "text": [
      "✅ 'bear' complete — 100 unique sentences found.\n"
     ]
    },
    {
     "name": "stderr",
     "output_type": "stream",
     "text": [
      "📚 Scanning for 'bed': 1706article [00:07, 218.61article/s, sentences=99]\n"
     ]
    },
    {
     "name": "stdout",
     "output_type": "stream",
     "text": [
      "✅ 'bed' complete — 100 unique sentences found.\n"
     ]
    },
    {
     "name": "stderr",
     "output_type": "stream",
     "text": [
      "📚 Scanning for 'beer': 1425article [00:06, 222.21article/s, sentences=84]\n"
     ]
    },
    {
     "name": "stdout",
     "output_type": "stream",
     "text": [
      "✅ 'beer' complete — 100 unique sentences found.\n"
     ]
    },
    {
     "name": "stderr",
     "output_type": "stream",
     "text": [
      "📚 Scanning for 'bench': 5000article [00:15, 315.71article/s, sentences=84]\n"
     ]
    },
    {
     "name": "stdout",
     "output_type": "stream",
     "text": [
      "⚠️ 'bench' skipped — 84 unique sentences found after 5000 articles.\n"
     ]
    },
    {
     "name": "stderr",
     "output_type": "stream",
     "text": [
      "📚 Scanning for 'blower': 5000article [00:16, 310.25article/s, sentences=8]\n"
     ]
    },
    {
     "name": "stdout",
     "output_type": "stream",
     "text": [
      "⚠️ 'blower' skipped — 8 unique sentences found after 5000 articles.\n"
     ]
    },
    {
     "name": "stderr",
     "output_type": "stream",
     "text": [
      "📚 Scanning for 'bok choy': 5000article [00:16, 308.33article/s, sentences=5]\n"
     ]
    },
    {
     "name": "stdout",
     "output_type": "stream",
     "text": [
      "⚠️ 'bok choy' skipped — 5 unique sentences found after 5000 articles.\n"
     ]
    },
    {
     "name": "stderr",
     "output_type": "stream",
     "text": [
      "📚 Scanning for 'bongo': 5000article [00:15, 313.61article/s, sentences=62]\n"
     ]
    },
    {
     "name": "stdout",
     "output_type": "stream",
     "text": [
      "⚠️ 'bongo' skipped — 62 unique sentences found after 5000 articles.\n"
     ]
    },
    {
     "name": "stderr",
     "output_type": "stream",
     "text": [
      "📚 Scanning for 'bow': 764article [00:03, 204.68article/s, sentences=51]\n"
     ]
    },
    {
     "name": "stdout",
     "output_type": "stream",
     "text": [
      "✅ 'bow' complete — 100 unique sentences found.\n"
     ]
    },
    {
     "name": "stderr",
     "output_type": "stream",
     "text": [
      "📚 Scanning for 'bracelet': 5000article [00:16, 311.39article/s, sentences=13]\n"
     ]
    },
    {
     "name": "stdout",
     "output_type": "stream",
     "text": [
      "⚠️ 'bracelet' skipped — 13 unique sentences found after 5000 articles.\n"
     ]
    },
    {
     "name": "stderr",
     "output_type": "stream",
     "text": [
      "📚 Scanning for 'bread': 1425article [00:06, 218.56article/s, sentences=97]\n"
     ]
    },
    {
     "name": "stdout",
     "output_type": "stream",
     "text": [
      "✅ 'bread' complete — 100 unique sentences found.\n"
     ]
    },
    {
     "name": "stderr",
     "output_type": "stream",
     "text": [
      "📚 Scanning for 'butterfly': 5000article [00:16, 309.77article/s, sentences=83]\n"
     ]
    },
    {
     "name": "stdout",
     "output_type": "stream",
     "text": [
      "⚠️ 'butterfly' skipped — 83 unique sentences found after 5000 articles.\n"
     ]
    },
    {
     "name": "stderr",
     "output_type": "stream",
     "text": [
      "📚 Scanning for 'button': 2734article [00:12, 217.95article/s, sentences=99]\n"
     ]
    },
    {
     "name": "stdout",
     "output_type": "stream",
     "text": [
      "✅ 'button' complete — 100 unique sentences found.\n"
     ]
    },
    {
     "name": "stderr",
     "output_type": "stream",
     "text": [
      "📚 Scanning for 'cannonball': 5000article [00:15, 313.85article/s, sentences=7]\n"
     ]
    },
    {
     "name": "stdout",
     "output_type": "stream",
     "text": [
      "⚠️ 'cannonball' skipped — 7 unique sentences found after 5000 articles.\n"
     ]
    },
    {
     "name": "stderr",
     "output_type": "stream",
     "text": [
      "📚 Scanning for 'canvas': 5000article [00:16, 303.56article/s, sentences=45]\n"
     ]
    },
    {
     "name": "stdout",
     "output_type": "stream",
     "text": [
      "⚠️ 'canvas' skipped — 45 unique sentences found after 5000 articles.\n"
     ]
    },
    {
     "name": "stderr",
     "output_type": "stream",
     "text": [
      "📚 Scanning for 'carriage': 5000article [00:16, 309.77article/s, sentences=90]\n"
     ]
    },
    {
     "name": "stdout",
     "output_type": "stream",
     "text": [
      "⚠️ 'carriage' skipped — 90 unique sentences found after 5000 articles.\n"
     ]
    },
    {
     "name": "stderr",
     "output_type": "stream",
     "text": [
      "📚 Scanning for 'chainsaw': 5000article [00:16, 309.15article/s, sentences=3]\n"
     ]
    },
    {
     "name": "stdout",
     "output_type": "stream",
     "text": [
      "⚠️ 'chainsaw' skipped — 3 unique sentences found after 5000 articles.\n"
     ]
    },
    {
     "name": "stderr",
     "output_type": "stream",
     "text": [
      "📚 Scanning for 'chaps': 5000article [00:15, 315.59article/s, sentences=0]\n"
     ]
    },
    {
     "name": "stdout",
     "output_type": "stream",
     "text": [
      "⚠️ 'chaps' skipped — 0 unique sentences found after 5000 articles.\n"
     ]
    },
    {
     "name": "stderr",
     "output_type": "stream",
     "text": [
      "📚 Scanning for 'chipmunk': 5000article [00:15, 321.12article/s, sentences=4]\n"
     ]
    },
    {
     "name": "stdout",
     "output_type": "stream",
     "text": [
      "⚠️ 'chipmunk' skipped — 4 unique sentences found after 5000 articles.\n"
     ]
    },
    {
     "name": "stderr",
     "output_type": "stream",
     "text": [
      "📚 Scanning for 'coaster': 5000article [00:16, 302.19article/s, sentences=20]\n"
     ]
    },
    {
     "name": "stdout",
     "output_type": "stream",
     "text": [
      "⚠️ 'coaster' skipped — 20 unique sentences found after 5000 articles.\n"
     ]
    },
    {
     "name": "stderr",
     "output_type": "stream",
     "text": [
      "📚 Scanning for 'computer screen': 5000article [00:15, 314.22article/s, sentences=7]\n"
     ]
    },
    {
     "name": "stdout",
     "output_type": "stream",
     "text": [
      "⚠️ 'computer screen' skipped — 7 unique sentences found after 5000 articles.\n"
     ]
    },
    {
     "name": "stderr",
     "output_type": "stream",
     "text": [
      "📚 Scanning for 'cooker': 5000article [00:15, 318.41article/s, sentences=4]\n"
     ]
    },
    {
     "name": "stdout",
     "output_type": "stream",
     "text": [
      "⚠️ 'cooker' skipped — 4 unique sentences found after 5000 articles.\n"
     ]
    },
    {
     "name": "stderr",
     "output_type": "stream",
     "text": [
      "📚 Scanning for 'cot': 5000article [00:15, 315.39article/s, sentences=8]\n"
     ]
    },
    {
     "name": "stdout",
     "output_type": "stream",
     "text": [
      "⚠️ 'cot' skipped — 8 unique sentences found after 5000 articles.\n"
     ]
    },
    {
     "name": "stderr",
     "output_type": "stream",
     "text": [
      "📚 Scanning for 'couch': 5000article [00:16, 310.12article/s, sentences=21]\n"
     ]
    },
    {
     "name": "stdout",
     "output_type": "stream",
     "text": [
      "⚠️ 'couch' skipped — 21 unique sentences found after 5000 articles.\n"
     ]
    },
    {
     "name": "stderr",
     "output_type": "stream",
     "text": [
      "📚 Scanning for 'cow': 5000article [00:15, 319.07article/s, sentences=87]\n"
     ]
    },
    {
     "name": "stdout",
     "output_type": "stream",
     "text": [
      "⚠️ 'cow' skipped — 87 unique sentences found after 5000 articles.\n"
     ]
    },
    {
     "name": "stderr",
     "output_type": "stream",
     "text": [
      "📚 Scanning for 'crepe': 5000article [00:16, 308.18article/s, sentences=2]\n"
     ]
    },
    {
     "name": "stdout",
     "output_type": "stream",
     "text": [
      "⚠️ 'crepe' skipped — 2 unique sentences found after 5000 articles.\n"
     ]
    },
    {
     "name": "stderr",
     "output_type": "stream",
     "text": [
      "📚 Scanning for 'crib': 5000article [00:15, 319.92article/s, sentences=17]\n"
     ]
    },
    {
     "name": "stdout",
     "output_type": "stream",
     "text": [
      "⚠️ 'crib' skipped — 17 unique sentences found after 5000 articles.\n"
     ]
    },
    {
     "name": "stderr",
     "output_type": "stream",
     "text": [
      "📚 Scanning for 'crow': 5000article [00:16, 310.64article/s, sentences=78]\n"
     ]
    },
    {
     "name": "stdout",
     "output_type": "stream",
     "text": [
      "⚠️ 'crow' skipped — 78 unique sentences found after 5000 articles.\n"
     ]
    },
    {
     "name": "stderr",
     "output_type": "stream",
     "text": [
      "📚 Scanning for 'cupcake': 5000article [00:15, 315.25article/s, sentences=3]\n"
     ]
    },
    {
     "name": "stdout",
     "output_type": "stream",
     "text": [
      "⚠️ 'cupcake' skipped — 3 unique sentences found after 5000 articles.\n"
     ]
    },
    {
     "name": "stderr",
     "output_type": "stream",
     "text": [
      "📚 Scanning for 'cymbal': 5000article [00:16, 302.72article/s, sentences=29]\n"
     ]
    },
    {
     "name": "stdout",
     "output_type": "stream",
     "text": [
      "⚠️ 'cymbal' skipped — 29 unique sentences found after 5000 articles.\n"
     ]
    },
    {
     "name": "stderr",
     "output_type": "stream",
     "text": [
      "📚 Scanning for 'dessert': 5000article [00:16, 309.27article/s, sentences=33]\n"
     ]
    },
    {
     "name": "stdout",
     "output_type": "stream",
     "text": [
      "⚠️ 'dessert' skipped — 33 unique sentences found after 5000 articles.\n"
     ]
    },
    {
     "name": "stderr",
     "output_type": "stream",
     "text": [
      "📚 Scanning for 'doily': 5000article [00:16, 302.45article/s, sentences=0]\n"
     ]
    },
    {
     "name": "stdout",
     "output_type": "stream",
     "text": [
      "⚠️ 'doily' skipped — 0 unique sentences found after 5000 articles.\n"
     ]
    },
    {
     "name": "stderr",
     "output_type": "stream",
     "text": [
      "📚 Scanning for 'doorknob': 5000article [00:15, 317.79article/s, sentences=0]\n"
     ]
    },
    {
     "name": "stdout",
     "output_type": "stream",
     "text": [
      "⚠️ 'doorknob' skipped — 0 unique sentences found after 5000 articles.\n"
     ]
    },
    {
     "name": "stderr",
     "output_type": "stream",
     "text": [
      "📚 Scanning for 'doorknocker': 5000article [00:15, 318.64article/s, sentences=0]\n"
     ]
    },
    {
     "name": "stdout",
     "output_type": "stream",
     "text": [
      "⚠️ 'doorknocker' skipped — 0 unique sentences found after 5000 articles.\n"
     ]
    },
    {
     "name": "stderr",
     "output_type": "stream",
     "text": [
      "📚 Scanning for 'dough': 5000article [00:15, 318.61article/s, sentences=26]\n"
     ]
    },
    {
     "name": "stdout",
     "output_type": "stream",
     "text": [
      "⚠️ 'dough' skipped — 26 unique sentences found after 5000 articles.\n"
     ]
    },
    {
     "name": "stderr",
     "output_type": "stream",
     "text": [
      "📚 Scanning for 'enchilada': 5000article [00:16, 305.11article/s, sentences=0]\n"
     ]
    },
    {
     "name": "stdout",
     "output_type": "stream",
     "text": [
      "⚠️ 'enchilada' skipped — 0 unique sentences found after 5000 articles.\n"
     ]
    },
    {
     "name": "stderr",
     "output_type": "stream",
     "text": [
      "📚 Scanning for 'exhaust pipe': 5000article [00:15, 318.38article/s, sentences=1]\n"
     ]
    },
    {
     "name": "stdout",
     "output_type": "stream",
     "text": [
      "⚠️ 'exhaust pipe' skipped — 1 unique sentences found after 5000 articles.\n"
     ]
    },
    {
     "name": "stderr",
     "output_type": "stream",
     "text": [
      "📚 Scanning for 'extinguisher': 5000article [00:16, 305.50article/s, sentences=5]\n"
     ]
    },
    {
     "name": "stdout",
     "output_type": "stream",
     "text": [
      "⚠️ 'extinguisher' skipped — 5 unique sentences found after 5000 articles.\n"
     ]
    },
    {
     "name": "stderr",
     "output_type": "stream",
     "text": [
      "📚 Scanning for 'fire alarm': 5000article [00:15, 313.70article/s, sentences=1]\n"
     ]
    },
    {
     "name": "stdout",
     "output_type": "stream",
     "text": [
      "⚠️ 'fire alarm' skipped — 1 unique sentences found after 5000 articles.\n"
     ]
    },
    {
     "name": "stderr",
     "output_type": "stream",
     "text": [
      "📚 Scanning for 'fishbowl': 5000article [00:15, 313.41article/s, sentences=3]\n"
     ]
    },
    {
     "name": "stdout",
     "output_type": "stream",
     "text": [
      "⚠️ 'fishbowl' skipped — 3 unique sentences found after 5000 articles.\n"
     ]
    },
    {
     "name": "stderr",
     "output_type": "stream",
     "text": [
      "📚 Scanning for 'flower': 1472article [00:06, 214.92article/s, sentences=99]\n"
     ]
    },
    {
     "name": "stdout",
     "output_type": "stream",
     "text": [
      "✅ 'flower' complete — 100 unique sentences found.\n"
     ]
    },
    {
     "name": "stderr",
     "output_type": "stream",
     "text": [
      "📚 Scanning for 'fly': 763article [00:03, 204.50article/s, sentences=99]\n"
     ]
    },
    {
     "name": "stdout",
     "output_type": "stream",
     "text": [
      "✅ 'fly' complete — 100 unique sentences found.\n"
     ]
    },
    {
     "name": "stderr",
     "output_type": "stream",
     "text": [
      "📚 Scanning for 'giraffe': 5000article [00:16, 301.36article/s, sentences=4]\n"
     ]
    },
    {
     "name": "stdout",
     "output_type": "stream",
     "text": [
      "⚠️ 'giraffe' skipped — 4 unique sentences found after 5000 articles.\n"
     ]
    },
    {
     "name": "stderr",
     "output_type": "stream",
     "text": [
      "📚 Scanning for 'gourd': 5000article [00:16, 300.75article/s, sentences=13]\n"
     ]
    },
    {
     "name": "stdout",
     "output_type": "stream",
     "text": [
      "⚠️ 'gourd' skipped — 13 unique sentences found after 5000 articles.\n"
     ]
    },
    {
     "name": "stderr",
     "output_type": "stream",
     "text": [
      "📚 Scanning for 'grapefruit': 5000article [00:16, 306.33article/s, sentences=9]\n"
     ]
    },
    {
     "name": "stdout",
     "output_type": "stream",
     "text": [
      "⚠️ 'grapefruit' skipped — 9 unique sentences found after 5000 articles.\n"
     ]
    },
    {
     "name": "stderr",
     "output_type": "stream",
     "text": [
      "📚 Scanning for 'grasshopper': 5000article [00:16, 304.22article/s, sentences=3]\n"
     ]
    },
    {
     "name": "stdout",
     "output_type": "stream",
     "text": [
      "⚠️ 'grasshopper' skipped — 3 unique sentences found after 5000 articles.\n"
     ]
    },
    {
     "name": "stderr",
     "output_type": "stream",
     "text": [
      "📚 Scanning for 'gravy': 5000article [00:15, 313.18article/s, sentences=8]\n"
     ]
    },
    {
     "name": "stdout",
     "output_type": "stream",
     "text": [
      "⚠️ 'gravy' skipped — 8 unique sentences found after 5000 articles.\n"
     ]
    },
    {
     "name": "stderr",
     "output_type": "stream",
     "text": [
      "📚 Scanning for 'guitar': 1417article [00:06, 217.79article/s, sentences=99]\n"
     ]
    },
    {
     "name": "stdout",
     "output_type": "stream",
     "text": [
      "✅ 'guitar' complete — 100 unique sentences found.\n"
     ]
    },
    {
     "name": "stderr",
     "output_type": "stream",
     "text": [
      "📚 Scanning for 'hat': 2272article [00:10, 222.64article/s, sentences=98]\n"
     ]
    },
    {
     "name": "stdout",
     "output_type": "stream",
     "text": [
      "✅ 'hat' complete — 100 unique sentences found.\n"
     ]
    },
    {
     "name": "stderr",
     "output_type": "stream",
     "text": [
      "📚 Scanning for 'hatchet': 5000article [00:16, 311.66article/s, sentences=14]\n"
     ]
    },
    {
     "name": "stdout",
     "output_type": "stream",
     "text": [
      "⚠️ 'hatchet' skipped — 14 unique sentences found after 5000 articles.\n"
     ]
    },
    {
     "name": "stderr",
     "output_type": "stream",
     "text": [
      "📚 Scanning for 'honeypot': 5000article [00:15, 314.31article/s, sentences=2]\n"
     ]
    },
    {
     "name": "stdout",
     "output_type": "stream",
     "text": [
      "⚠️ 'honeypot' skipped — 2 unique sentences found after 5000 articles.\n"
     ]
    },
    {
     "name": "stderr",
     "output_type": "stream",
     "text": [
      "📚 Scanning for 'hot-air balloon': 5000article [00:15, 314.74article/s, sentences=2]\n"
     ]
    },
    {
     "name": "stdout",
     "output_type": "stream",
     "text": [
      "⚠️ 'hot-air balloon' skipped — 2 unique sentences found after 5000 articles.\n"
     ]
    },
    {
     "name": "stderr",
     "output_type": "stream",
     "text": [
      "📚 Scanning for 'hula hoop': 5000article [00:15, 313.89article/s, sentences=0]\n"
     ]
    },
    {
     "name": "stdout",
     "output_type": "stream",
     "text": [
      "⚠️ 'hula hoop' skipped — 0 unique sentences found after 5000 articles.\n"
     ]
    },
    {
     "name": "stderr",
     "output_type": "stream",
     "text": [
      "📚 Scanning for 'hummus': 5000article [00:16, 296.13article/s, sentences=1]\n"
     ]
    },
    {
     "name": "stdout",
     "output_type": "stream",
     "text": [
      "⚠️ 'hummus' skipped — 1 unique sentences found after 5000 articles.\n"
     ]
    },
    {
     "name": "stderr",
     "output_type": "stream",
     "text": [
      "📚 Scanning for 'humvee': 5000article [00:16, 307.03article/s, sentences=5]\n"
     ]
    },
    {
     "name": "stdout",
     "output_type": "stream",
     "text": [
      "⚠️ 'humvee' skipped — 5 unique sentences found after 5000 articles.\n"
     ]
    },
    {
     "name": "stderr",
     "output_type": "stream",
     "text": [
      "📚 Scanning for 'hyena': 5000article [00:16, 306.13article/s, sentences=18]\n"
     ]
    },
    {
     "name": "stdout",
     "output_type": "stream",
     "text": [
      "⚠️ 'hyena' skipped — 18 unique sentences found after 5000 articles.\n"
     ]
    },
    {
     "name": "stderr",
     "output_type": "stream",
     "text": [
      "📚 Scanning for 'iguana': 5000article [00:16, 307.66article/s, sentences=6]\n"
     ]
    },
    {
     "name": "stdout",
     "output_type": "stream",
     "text": [
      "⚠️ 'iguana' skipped — 6 unique sentences found after 5000 articles.\n"
     ]
    },
    {
     "name": "stderr",
     "output_type": "stream",
     "text": [
      "📚 Scanning for 'jeans': 5000article [00:16, 307.21article/s, sentences=18]\n"
     ]
    },
    {
     "name": "stdout",
     "output_type": "stream",
     "text": [
      "⚠️ 'jeans' skipped — 18 unique sentences found after 5000 articles.\n"
     ]
    },
    {
     "name": "stderr",
     "output_type": "stream",
     "text": [
      "📚 Scanning for 'kilt': 5000article [00:15, 317.17article/s, sentences=4]\n"
     ]
    },
    {
     "name": "stdout",
     "output_type": "stream",
     "text": [
      "⚠️ 'kilt' skipped — 4 unique sentences found after 5000 articles.\n"
     ]
    },
    {
     "name": "stderr",
     "output_type": "stream",
     "text": [
      "📚 Scanning for 'kimono': 5000article [00:16, 305.02article/s, sentences=2]\n"
     ]
    },
    {
     "name": "stdout",
     "output_type": "stream",
     "text": [
      "⚠️ 'kimono' skipped — 2 unique sentences found after 5000 articles.\n"
     ]
    },
    {
     "name": "stderr",
     "output_type": "stream",
     "text": [
      "📚 Scanning for 'kneepad': 5000article [00:16, 307.39article/s, sentences=0]\n"
     ]
    },
    {
     "name": "stdout",
     "output_type": "stream",
     "text": [
      "⚠️ 'kneepad' skipped — 0 unique sentences found after 5000 articles.\n"
     ]
    },
    {
     "name": "stderr",
     "output_type": "stream",
     "text": [
      "📚 Scanning for 'knitting needle': 5000article [00:16, 305.55article/s, sentences=0]\n"
     ]
    },
    {
     "name": "stdout",
     "output_type": "stream",
     "text": [
      "⚠️ 'knitting needle' skipped — 0 unique sentences found after 5000 articles.\n"
     ]
    },
    {
     "name": "stderr",
     "output_type": "stream",
     "text": [
      "📚 Scanning for 'knob': 5000article [00:16, 311.25article/s, sentences=14]\n"
     ]
    },
    {
     "name": "stdout",
     "output_type": "stream",
     "text": [
      "⚠️ 'knob' skipped — 14 unique sentences found after 5000 articles.\n"
     ]
    },
    {
     "name": "stderr",
     "output_type": "stream",
     "text": [
      "📚 Scanning for 'lawnmower': 5000article [00:16, 305.45article/s, sentences=4]\n"
     ]
    },
    {
     "name": "stdout",
     "output_type": "stream",
     "text": [
      "⚠️ 'lawnmower' skipped — 4 unique sentences found after 5000 articles.\n"
     ]
    },
    {
     "name": "stderr",
     "output_type": "stream",
     "text": [
      "📚 Scanning for 'leek': 5000article [00:15, 312.69article/s, sentences=15]\n"
     ]
    },
    {
     "name": "stdout",
     "output_type": "stream",
     "text": [
      "⚠️ 'leek' skipped — 15 unique sentences found after 5000 articles.\n"
     ]
    },
    {
     "name": "stderr",
     "output_type": "stream",
     "text": [
      "📚 Scanning for 'lion': 1667article [00:07, 221.73article/s, sentences=99]\n"
     ]
    },
    {
     "name": "stdout",
     "output_type": "stream",
     "text": [
      "✅ 'lion' complete — 100 unique sentences found.\n"
     ]
    },
    {
     "name": "stderr",
     "output_type": "stream",
     "text": [
      "📚 Scanning for 'mango': 5000article [00:15, 319.06article/s, sentences=34]\n"
     ]
    },
    {
     "name": "stdout",
     "output_type": "stream",
     "text": [
      "⚠️ 'mango' skipped — 34 unique sentences found after 5000 articles.\n"
     ]
    },
    {
     "name": "stderr",
     "output_type": "stream",
     "text": [
      "📚 Scanning for 'margarita': 5000article [00:16, 312.35article/s, sentences=27]\n"
     ]
    },
    {
     "name": "stdout",
     "output_type": "stream",
     "text": [
      "⚠️ 'margarita' skipped — 27 unique sentences found after 5000 articles.\n"
     ]
    },
    {
     "name": "stderr",
     "output_type": "stream",
     "text": [
      "📚 Scanning for 'mashed potato': 5000article [00:16, 311.54article/s, sentences=2]\n"
     ]
    },
    {
     "name": "stdout",
     "output_type": "stream",
     "text": [
      "⚠️ 'mashed potato' skipped — 2 unique sentences found after 5000 articles.\n"
     ]
    },
    {
     "name": "stderr",
     "output_type": "stream",
     "text": [
      "📚 Scanning for 'milkshake': 5000article [00:15, 313.90article/s, sentences=36]\n"
     ]
    },
    {
     "name": "stdout",
     "output_type": "stream",
     "text": [
      "⚠️ 'milkshake' skipped — 36 unique sentences found after 5000 articles.\n"
     ]
    },
    {
     "name": "stderr",
     "output_type": "stream",
     "text": [
      "📚 Scanning for 'missile': 644article [00:03, 202.03article/s, sentences=27]\n"
     ]
    },
    {
     "name": "stdout",
     "output_type": "stream",
     "text": [
      "✅ 'missile' complete — 100 unique sentences found.\n"
     ]
    },
    {
     "name": "stderr",
     "output_type": "stream",
     "text": [
      "📚 Scanning for 'mosquito': 5000article [00:16, 302.68article/s, sentences=17]\n"
     ]
    },
    {
     "name": "stdout",
     "output_type": "stream",
     "text": [
      "⚠️ 'mosquito' skipped — 17 unique sentences found after 5000 articles.\n"
     ]
    },
    {
     "name": "stderr",
     "output_type": "stream",
     "text": [
      "📚 Scanning for 'mouse': 2551article [00:11, 216.73article/s, sentences=99]\n"
     ]
    },
    {
     "name": "stdout",
     "output_type": "stream",
     "text": [
      "✅ 'mouse' complete — 100 unique sentences found.\n"
     ]
    },
    {
     "name": "stderr",
     "output_type": "stream",
     "text": [
      "📚 Scanning for 'oatmeal': 5000article [00:16, 310.89article/s, sentences=5]\n"
     ]
    },
    {
     "name": "stdout",
     "output_type": "stream",
     "text": [
      "⚠️ 'oatmeal' skipped — 5 unique sentences found after 5000 articles.\n"
     ]
    },
    {
     "name": "stderr",
     "output_type": "stream",
     "text": [
      "📚 Scanning for 'odometer': 5000article [00:16, 302.08article/s, sentences=3]\n"
     ]
    },
    {
     "name": "stdout",
     "output_type": "stream",
     "text": [
      "⚠️ 'odometer' skipped — 3 unique sentences found after 5000 articles.\n"
     ]
    },
    {
     "name": "stderr",
     "output_type": "stream",
     "text": [
      "📚 Scanning for 'owl': 2878article [00:12, 227.05article/s, sentences=51]\n"
     ]
    },
    {
     "name": "stdout",
     "output_type": "stream",
     "text": [
      "✅ 'owl' complete — 100 unique sentences found.\n"
     ]
    },
    {
     "name": "stderr",
     "output_type": "stream",
     "text": [
      "📚 Scanning for 'parfait': 5000article [00:15, 315.80article/s, sentences=0]\n"
     ]
    },
    {
     "name": "stdout",
     "output_type": "stream",
     "text": [
      "⚠️ 'parfait' skipped — 0 unique sentences found after 5000 articles.\n"
     ]
    },
    {
     "name": "stderr",
     "output_type": "stream",
     "text": [
      "📚 Scanning for 'parrot': 5000article [00:16, 307.73article/s, sentences=24]\n"
     ]
    },
    {
     "name": "stdout",
     "output_type": "stream",
     "text": [
      "⚠️ 'parrot' skipped — 24 unique sentences found after 5000 articles.\n"
     ]
    },
    {
     "name": "stderr",
     "output_type": "stream",
     "text": [
      "📚 Scanning for 'pinball': 5000article [00:15, 317.97article/s, sentences=9]\n"
     ]
    },
    {
     "name": "stdout",
     "output_type": "stream",
     "text": [
      "⚠️ 'pinball' skipped — 9 unique sentences found after 5000 articles.\n"
     ]
    },
    {
     "name": "stderr",
     "output_type": "stream",
     "text": [
      "📚 Scanning for 'pocket watch': 5000article [00:15, 316.40article/s, sentences=1]\n"
     ]
    },
    {
     "name": "stdout",
     "output_type": "stream",
     "text": [
      "⚠️ 'pocket watch' skipped — 1 unique sentences found after 5000 articles.\n"
     ]
    },
    {
     "name": "stderr",
     "output_type": "stream",
     "text": [
      "📚 Scanning for 'puffin': 5000article [00:16, 306.32article/s, sentences=7]\n"
     ]
    },
    {
     "name": "stdout",
     "output_type": "stream",
     "text": [
      "⚠️ 'puffin' skipped — 7 unique sentences found after 5000 articles.\n"
     ]
    },
    {
     "name": "stderr",
     "output_type": "stream",
     "text": [
      "📚 Scanning for 'pumpkin': 5000article [00:16, 310.19article/s, sentences=30]\n"
     ]
    },
    {
     "name": "stdout",
     "output_type": "stream",
     "text": [
      "⚠️ 'pumpkin' skipped — 30 unique sentences found after 5000 articles.\n"
     ]
    },
    {
     "name": "stderr",
     "output_type": "stream",
     "text": [
      "📚 Scanning for 'quesadilla': 5000article [00:15, 313.19article/s, sentences=0]\n"
     ]
    },
    {
     "name": "stdout",
     "output_type": "stream",
     "text": [
      "⚠️ 'quesadilla' skipped — 0 unique sentences found after 5000 articles.\n"
     ]
    },
    {
     "name": "stderr",
     "output_type": "stream",
     "text": [
      "📚 Scanning for 'quiche': 5000article [00:16, 308.30article/s, sentences=2]\n"
     ]
    },
    {
     "name": "stdout",
     "output_type": "stream",
     "text": [
      "⚠️ 'quiche' skipped — 2 unique sentences found after 5000 articles.\n"
     ]
    },
    {
     "name": "stderr",
     "output_type": "stream",
     "text": [
      "📚 Scanning for 'ravioli': 5000article [00:15, 312.65article/s, sentences=4]\n"
     ]
    },
    {
     "name": "stdout",
     "output_type": "stream",
     "text": [
      "⚠️ 'ravioli' skipped — 4 unique sentences found after 5000 articles.\n"
     ]
    },
    {
     "name": "stderr",
     "output_type": "stream",
     "text": [
      "📚 Scanning for 'sea urchin': 5000article [00:16, 312.08article/s, sentences=1]\n"
     ]
    },
    {
     "name": "stdout",
     "output_type": "stream",
     "text": [
      "⚠️ 'sea urchin' skipped — 1 unique sentences found after 5000 articles.\n"
     ]
    },
    {
     "name": "stderr",
     "output_type": "stream",
     "text": [
      "📚 Scanning for 'shuffleboard': 5000article [00:16, 310.01article/s, sentences=4]\n"
     ]
    },
    {
     "name": "stdout",
     "output_type": "stream",
     "text": [
      "⚠️ 'shuffleboard' skipped — 4 unique sentences found after 5000 articles.\n"
     ]
    },
    {
     "name": "stderr",
     "output_type": "stream",
     "text": [
      "📚 Scanning for 'skeleton': 2339article [00:10, 214.77article/s, sentences=99]\n"
     ]
    },
    {
     "name": "stdout",
     "output_type": "stream",
     "text": [
      "✅ 'skeleton' complete — 100 unique sentences found.\n"
     ]
    },
    {
     "name": "stderr",
     "output_type": "stream",
     "text": [
      "📚 Scanning for 'snail': 5000article [00:15, 314.16article/s, sentences=16]\n"
     ]
    },
    {
     "name": "stdout",
     "output_type": "stream",
     "text": [
      "⚠️ 'snail' skipped — 16 unique sentences found after 5000 articles.\n"
     ]
    },
    {
     "name": "stderr",
     "output_type": "stream",
     "text": [
      "📚 Scanning for 'snake': 2389article [00:11, 216.21article/s, sentences=93]\n"
     ]
    },
    {
     "name": "stdout",
     "output_type": "stream",
     "text": [
      "✅ 'snake' complete — 100 unique sentences found.\n"
     ]
    },
    {
     "name": "stderr",
     "output_type": "stream",
     "text": [
      "📚 Scanning for 'souffle': 5000article [00:15, 315.96article/s, sentences=1]\n"
     ]
    },
    {
     "name": "stdout",
     "output_type": "stream",
     "text": [
      "⚠️ 'souffle' skipped — 1 unique sentences found after 5000 articles.\n"
     ]
    },
    {
     "name": "stderr",
     "output_type": "stream",
     "text": [
      "📚 Scanning for 'stew': 5000article [00:16, 307.21article/s, sentences=20]\n"
     ]
    },
    {
     "name": "stdout",
     "output_type": "stream",
     "text": [
      "⚠️ 'stew' skipped — 20 unique sentences found after 5000 articles.\n"
     ]
    },
    {
     "name": "stderr",
     "output_type": "stream",
     "text": [
      "📚 Scanning for 'swab': 5000article [00:15, 318.56article/s, sentences=4]\n"
     ]
    },
    {
     "name": "stdout",
     "output_type": "stream",
     "text": [
      "⚠️ 'swab' skipped — 4 unique sentences found after 5000 articles.\n"
     ]
    },
    {
     "name": "stderr",
     "output_type": "stream",
     "text": [
      "📚 Scanning for 'taillight': 5000article [00:15, 315.40article/s, sentences=1]\n"
     ]
    },
    {
     "name": "stdout",
     "output_type": "stream",
     "text": [
      "⚠️ 'taillight' skipped — 1 unique sentences found after 5000 articles.\n"
     ]
    },
    {
     "name": "stderr",
     "output_type": "stream",
     "text": [
      "📚 Scanning for 'tank': 846article [00:04, 208.53article/s, sentences=66]\n"
     ]
    },
    {
     "name": "stdout",
     "output_type": "stream",
     "text": [
      "✅ 'tank' complete — 100 unique sentences found.\n"
     ]
    },
    {
     "name": "stderr",
     "output_type": "stream",
     "text": [
      "📚 Scanning for 'tarantula': 5000article [00:15, 318.51article/s, sentences=0]\n"
     ]
    },
    {
     "name": "stdout",
     "output_type": "stream",
     "text": [
      "⚠️ 'tarantula' skipped — 0 unique sentences found after 5000 articles.\n"
     ]
    },
    {
     "name": "stderr",
     "output_type": "stream",
     "text": [
      "📚 Scanning for 'taxi': 4498article [00:15, 296.94article/s, sentences=99]\n"
     ]
    },
    {
     "name": "stdout",
     "output_type": "stream",
     "text": [
      "✅ 'taxi' complete — 100 unique sentences found.\n"
     ]
    },
    {
     "name": "stderr",
     "output_type": "stream",
     "text": [
      "📚 Scanning for 'tennis ball': 5000article [00:15, 315.27article/s, sentences=2]\n"
     ]
    },
    {
     "name": "stdout",
     "output_type": "stream",
     "text": [
      "⚠️ 'tennis ball' skipped — 2 unique sentences found after 5000 articles.\n"
     ]
    },
    {
     "name": "stderr",
     "output_type": "stream",
     "text": [
      "📚 Scanning for 'thermos': 5000article [00:16, 308.51article/s, sentences=5]\n"
     ]
    },
    {
     "name": "stdout",
     "output_type": "stream",
     "text": [
      "⚠️ 'thermos' skipped — 5 unique sentences found after 5000 articles.\n"
     ]
    },
    {
     "name": "stderr",
     "output_type": "stream",
     "text": [
      "📚 Scanning for 'toilet paper': 5000article [00:16, 306.40article/s, sentences=3]\n"
     ]
    },
    {
     "name": "stdout",
     "output_type": "stream",
     "text": [
      "⚠️ 'toilet paper' skipped — 3 unique sentences found after 5000 articles.\n"
     ]
    },
    {
     "name": "stderr",
     "output_type": "stream",
     "text": [
      "📚 Scanning for 'tortellini': 5000article [00:15, 316.70article/s, sentences=0]\n"
     ]
    },
    {
     "name": "stdout",
     "output_type": "stream",
     "text": [
      "⚠️ 'tortellini' skipped — 0 unique sentences found after 5000 articles.\n"
     ]
    },
    {
     "name": "stderr",
     "output_type": "stream",
     "text": [
      "📚 Scanning for 'treadmill': 5000article [00:16, 309.23article/s, sentences=4]\n"
     ]
    },
    {
     "name": "stdout",
     "output_type": "stream",
     "text": [
      "⚠️ 'treadmill' skipped — 4 unique sentences found after 5000 articles.\n"
     ]
    },
    {
     "name": "stderr",
     "output_type": "stream",
     "text": [
      "📚 Scanning for 'trowel': 5000article [00:16, 301.46article/s, sentences=5]\n"
     ]
    },
    {
     "name": "stdout",
     "output_type": "stream",
     "text": [
      "⚠️ 'trowel' skipped — 5 unique sentences found after 5000 articles.\n"
     ]
    },
    {
     "name": "stderr",
     "output_type": "stream",
     "text": [
      "📚 Scanning for 'tuxedo': 5000article [00:16, 309.19article/s, sentences=6]\n"
     ]
    },
    {
     "name": "stdout",
     "output_type": "stream",
     "text": [
      "⚠️ 'tuxedo' skipped — 6 unique sentences found after 5000 articles.\n"
     ]
    },
    {
     "name": "stderr",
     "output_type": "stream",
     "text": [
      "📚 Scanning for 'uniform': 816article [00:03, 206.84article/s, sentences=91]\n"
     ]
    },
    {
     "name": "stdout",
     "output_type": "stream",
     "text": [
      "✅ 'uniform' complete — 100 unique sentences found.\n"
     ]
    },
    {
     "name": "stderr",
     "output_type": "stream",
     "text": [
      "📚 Scanning for 'vase': 5000article [00:15, 316.21article/s, sentences=84]\n"
     ]
    },
    {
     "name": "stdout",
     "output_type": "stream",
     "text": [
      "⚠️ 'vase' skipped — 84 unique sentences found after 5000 articles.\n"
     ]
    },
    {
     "name": "stderr",
     "output_type": "stream",
     "text": [
      "📚 Scanning for 'veil': 5000article [00:15, 315.21article/s, sentences=34]\n"
     ]
    },
    {
     "name": "stdout",
     "output_type": "stream",
     "text": [
      "⚠️ 'veil' skipped — 34 unique sentences found after 5000 articles.\n"
     ]
    },
    {
     "name": "stderr",
     "output_type": "stream",
     "text": [
      "📚 Scanning for 'visor': 5000article [00:15, 319.32article/s, sentences=7]\n"
     ]
    },
    {
     "name": "stdout",
     "output_type": "stream",
     "text": [
      "⚠️ 'visor' skipped — 7 unique sentences found after 5000 articles.\n"
     ]
    },
    {
     "name": "stderr",
     "output_type": "stream",
     "text": [
      "📚 Scanning for 'volleyball': 5000article [00:16, 310.08article/s, sentences=93]\n"
     ]
    },
    {
     "name": "stdout",
     "output_type": "stream",
     "text": [
      "⚠️ 'volleyball' skipped — 93 unique sentences found after 5000 articles.\n"
     ]
    },
    {
     "name": "stderr",
     "output_type": "stream",
     "text": [
      "📚 Scanning for 'waffle': 5000article [00:16, 309.57article/s, sentences=8]\n"
     ]
    },
    {
     "name": "stdout",
     "output_type": "stream",
     "text": [
      "⚠️ 'waffle' skipped — 8 unique sentences found after 5000 articles.\n"
     ]
    },
    {
     "name": "stderr",
     "output_type": "stream",
     "text": [
      "📚 Scanning for 'wrap': 5000article [00:15, 320.44article/s, sentences=19]"
     ]
    },
    {
     "name": "stdout",
     "output_type": "stream",
     "text": [
      "⚠️ 'wrap' skipped — 19 unique sentences found after 5000 articles.\n",
      "📊 Avg sentences/word: 29.98 | complete: 24/128 | skipped: 104\n"
     ]
    },
    {
     "name": "stderr",
     "output_type": "stream",
     "text": [
      "\n"
     ]
    }
   ],
   "source": [
    "import re\n",
    "from tqdm import tqdm\n",
    "from collections import defaultdict\n",
    "\n",
    "target_count = 100\n",
    "MAX_ARTICLES_PER_WORD = 5000\n",
    "\n",
    "word_sentences = defaultdict(list)\n",
    "word_seen_set = defaultdict(set)\n",
    "skipped = set()\n",
    "\n",
    "word_regex = {w: re.compile(rf\"\\b{re.escape(w.lower())}\\b\") for w in words}\n",
    "\n",
    "# Process each word independently\n",
    "for w in words:\n",
    "    articles_checked = 0\n",
    "    \n",
    "    pbar = tqdm(dataset, desc=f\"📚 Scanning for '{w}'\", unit=\"article\")\n",
    "    \n",
    "    for article in pbar:\n",
    "        articles_checked += 1\n",
    "        \n",
    "        # Check if we've hit the limit for this word\n",
    "        if articles_checked > MAX_ARTICLES_PER_WORD:\n",
    "            skipped.add(w)\n",
    "            print(f\"⚠️ '{w}' skipped — {len(word_seen_set[w])} unique sentences found after {MAX_ARTICLES_PER_WORD} articles.\")\n",
    "            break\n",
    "        \n",
    "        text = article[\"text\"].lower()\n",
    "        sentences = sent_tokenize(text)\n",
    "        \n",
    "        if word_regex[w].search(text):\n",
    "            for s in sentences:\n",
    "                if word_regex[w].search(s):\n",
    "                    if s not in word_seen_set[w]:\n",
    "                        word_seen_set[w].add(s)\n",
    "                        word_sentences[w].append(s)\n",
    "                        if len(word_sentences[w]) >= target_count:\n",
    "                            print(f\"✅ '{w}' complete — {len(word_seen_set[w])} unique sentences found.\")\n",
    "                            break\n",
    "            \n",
    "            # Break out if we have enough sentences\n",
    "            if len(word_sentences[w]) >= target_count:\n",
    "                break\n",
    "        \n",
    "        pbar.set_postfix({\"sentences\": len(word_sentences[w])})\n",
    "    \n",
    "    pbar.close()\n",
    "\n",
    "lengths = [len(v) for v in word_sentences.values()]\n",
    "avg_len = (sum(lengths) / len(lengths)) if lengths else 0\n",
    "print(f\"📊 Avg sentences/word: {avg_len:.2f} | \"\n",
    "      f\"complete: {sum(l >= target_count for l in lengths)}/{len(words)} | \"\n",
    "      f\"skipped: {len(skipped)}\")"
   ]
  },
  {
   "cell_type": "code",
   "execution_count": 11,
   "id": "015dd81b",
   "metadata": {},
   "outputs": [
    {
     "ename": "TypeError",
     "evalue": "'numpy.ndarray' object is not callable",
     "output_type": "error",
     "traceback": [
      "\u001b[31m---------------------------------------------------------------------------\u001b[39m",
      "\u001b[31mTypeError\u001b[39m                                 Traceback (most recent call last)",
      "\u001b[36mCell\u001b[39m\u001b[36m \u001b[39m\u001b[32mIn[11]\u001b[39m\u001b[32m, line 3\u001b[39m\n\u001b[32m      1\u001b[39m \u001b[38;5;28;01mimport\u001b[39;00m\u001b[38;5;250m \u001b[39m\u001b[34;01mnumpy\u001b[39;00m\u001b[38;5;250m \u001b[39m\u001b[38;5;28;01mas\u001b[39;00m\u001b[38;5;250m \u001b[39m\u001b[34;01mnp\u001b[39;00m\n\u001b[32m----> \u001b[39m\u001b[32m3\u001b[39m avg_len = np.mean([\u001b[38;5;28mlen\u001b[39m(v) \u001b[38;5;28;01mfor\u001b[39;00m v \u001b[38;5;129;01min\u001b[39;00m \u001b[43mword_sentences\u001b[49m\u001b[43m.\u001b[49m\u001b[43mvalues\u001b[49m\u001b[43m(\u001b[49m\u001b[43m)\u001b[49m])\n\u001b[32m      4\u001b[39m \u001b[38;5;28mprint\u001b[39m(\u001b[33mf\u001b[39m\u001b[33m\"\u001b[39m\u001b[33mAverage sentences per word: \u001b[39m\u001b[38;5;132;01m{\u001b[39;00mavg_len\u001b[38;5;132;01m:\u001b[39;00m\u001b[33m.2f\u001b[39m\u001b[38;5;132;01m}\u001b[39;00m\u001b[33m\"\u001b[39m)\n",
      "\u001b[31mTypeError\u001b[39m: 'numpy.ndarray' object is not callable"
     ]
    }
   ],
   "source": [
    "import numpy as np\n",
    "\n",
    "avg_len = np.mean([len(v) for v in word_sentences.values()])\n",
    "print(f\"Average sentences per word: {avg_len:.2f}\")\n"
   ]
  },
  {
   "cell_type": "code",
   "execution_count": null,
   "id": "762d42d0",
   "metadata": {},
   "outputs": [
    {
     "name": "stdout",
     "output_type": "stream",
     "text": [
      "✅ Saved to wiki_word_sentences.csv with 100 rows and 128 columns.\n"
     ]
    }
   ],
   "source": [
    "import pandas as pd\n",
    "\n",
    "\n",
    "max_len = max(len(s) for s in word_sentences.values())\n",
    "for w in word_sentences:\n",
    "    word_sentences[w] += [\"\"] * (max_len - len(word_sentences[w]))\n",
    "\n",
    "df = pd.DataFrame(word_sentences)\n",
    "\n",
    "df.to_csv(\"wiki_word_sentences.csv\", index=False)\n",
    "\n",
    "print(f\"✅ Saved to wiki_word_sentences.csv with {len(df)} rows and {len(df.columns)} columns.\")\n"
   ]
  },
  {
   "cell_type": "code",
   "execution_count": 11,
   "id": "90223c97",
   "metadata": {},
   "outputs": [],
   "source": [
    "device=\"cuda\""
   ]
  },
  {
   "cell_type": "code",
   "execution_count": 10,
   "id": "d69515be",
   "metadata": {},
   "outputs": [
    {
     "data": {
      "text/html": [
       "<div>\n",
       "<style scoped>\n",
       "    .dataframe tbody tr th:only-of-type {\n",
       "        vertical-align: middle;\n",
       "    }\n",
       "\n",
       "    .dataframe tbody tr th {\n",
       "        vertical-align: top;\n",
       "    }\n",
       "\n",
       "    .dataframe thead th {\n",
       "        text-align: right;\n",
       "    }\n",
       "</style>\n",
       "<table border=\"1\" class=\"dataframe\">\n",
       "  <thead>\n",
       "    <tr style=\"text-align: right;\">\n",
       "      <th></th>\n",
       "      <th>airbag</th>\n",
       "      <th>album</th>\n",
       "      <th>appetizer</th>\n",
       "      <th>applesauce</th>\n",
       "      <th>backscratcher</th>\n",
       "      <th>badger</th>\n",
       "      <th>bag</th>\n",
       "      <th>baklava</th>\n",
       "      <th>banjo</th>\n",
       "      <th>baseball</th>\n",
       "      <th>...</th>\n",
       "      <th>treadmill</th>\n",
       "      <th>trowel</th>\n",
       "      <th>tuxedo</th>\n",
       "      <th>uniform</th>\n",
       "      <th>vase</th>\n",
       "      <th>veil</th>\n",
       "      <th>visor</th>\n",
       "      <th>volleyball</th>\n",
       "      <th>waffle</th>\n",
       "      <th>wrap</th>\n",
       "    </tr>\n",
       "  </thead>\n",
       "  <tbody>\n",
       "    <tr>\n",
       "      <th>0</th>\n",
       "      <td>passengers were provided with helmets, airbag ...</td>\n",
       "      <td>temporary like achilles is a track on the 1966...</td>\n",
       "      <td>ame: cilantro); entree (refers to ame appetize...</td>\n",
       "      <td>NaN</td>\n",
       "      <td>NaN</td>\n",
       "      <td>traditional ainu cuisine consists of the meat ...</td>\n",
       "      <td>unique words in alabama english include: redwo...</td>\n",
       "      <td>arab cuisine is also known for its sweets and ...</td>\n",
       "      <td>1949)\\n2007 – tommy makem, irish singer-songwr...</td>\n",
       "      <td>some notable examples of alabama literature in...</td>\n",
       "      <td>...</td>\n",
       "      <td>pesticides select for pesticide resistance in ...</td>\n",
       "      <td>he told matthew arnold, \"everybody likes flatt...</td>\n",
       "      <td>again according to legend, the first americans...</td>\n",
       "      <td>despite separation, the various anarchist scho...</td>\n",
       "      <td>in the later vase paintings presenting the dea...</td>\n",
       "      <td>in this sense, the literal meanings of 'alchem...</td>\n",
       "      <td>the traditional visor helmet was replaced with...</td>\n",
       "      <td>after 18 years the club returned to the top le...</td>\n",
       "      <td>(japan)\\n founding of asunción (paraguay)\\n in...</td>\n",
       "      <td>objects wrap around screen edges – for instanc...</td>\n",
       "    </tr>\n",
       "    <tr>\n",
       "      <th>1</th>\n",
       "      <td>NaN</td>\n",
       "      <td>achilles, agony and ecstasy in eight parts is ...</td>\n",
       "      <td>native olympia oysters are served on the half ...</td>\n",
       "      <td>NaN</td>\n",
       "      <td>NaN</td>\n",
       "      <td>more abundant and in varied situations of cons...</td>\n",
       "      <td>in her only other appearance, she hastily thro...</td>\n",
       "      <td>NaN</td>\n",
       "      <td>births\\n\\npre-1600\\n 317 – constantius ii, rom...</td>\n",
       "      <td>women\\n aberdeen gsfp rfc, an amateur rugby un...</td>\n",
       "      <td>...</td>\n",
       "      <td>treadmills\\nbodyweight-supported treadmill tra...</td>\n",
       "      <td>further classified as type a and type b based ...</td>\n",
       "      <td>thereafter the jacket became known as a tuxedo...</td>\n",
       "      <td>the 37 seconds result from the initial differe...</td>\n",
       "      <td>in book xxiii, the sad spirit of dead patroclu...</td>\n",
       "      <td>tavë kosi (\"soured milk casserole\") is the nat...</td>\n",
       "      <td>in ame it can also refer to the visor of a cap...</td>\n",
       "      <td>the afghan sports federation promotes cricket,...</td>\n",
       "      <td>to further reduce weight, a lightweight magazi...</td>\n",
       "      <td>\"ink text\" captured the user's free-hand writi...</td>\n",
       "    </tr>\n",
       "    <tr>\n",
       "      <th>2</th>\n",
       "      <td>NaN</td>\n",
       "      <td>achilles come down is a song on the 2017 gang ...</td>\n",
       "      <td>a typical accompaniment or appetizer of all th...</td>\n",
       "      <td>NaN</td>\n",
       "      <td>NaN</td>\n",
       "      <td>eventually, during the height of the cold war,...</td>\n",
       "      <td>about seven minutes after stepping onto the mo...</td>\n",
       "      <td>NaN</td>\n",
       "      <td>births\\n\\npre-1600\\n1355 – philippa, 5th count...</td>\n",
       "      <td>the amsterdam pirates baseball team competes i...</td>\n",
       "      <td>...</td>\n",
       "      <td>at this time, the area contained large factori...</td>\n",
       "      <td>dibbers come in a variety of designs including...</td>\n",
       "      <td>the tuxedo was always black until the 1930s, w...</td>\n",
       "      <td>he carries a pistol and a lucky rabbit's foot,...</td>\n",
       "      <td>in the odyssey book xxiv we read dead king aga...</td>\n",
       "      <td>clare waight keller designed meghan markle's w...</td>\n",
       "      <td>a moveable visor (face guard) protected the face.</td>\n",
       "      <td>the albanian athletes have won a total of 43 (...</td>\n",
       "      <td>1987)\\n\\nholidays and observances\\nchristian f...</td>\n",
       "      <td>australian english nag\\n chrimbo: abbreviation...</td>\n",
       "    </tr>\n",
       "    <tr>\n",
       "      <th>3</th>\n",
       "      <td>NaN</td>\n",
       "      <td>harry james released a version of the blues se...</td>\n",
       "      <td>NaN</td>\n",
       "      <td>NaN</td>\n",
       "      <td>NaN</td>\n",
       "      <td>current examples include the strategic nuclear...</td>\n",
       "      <td>he then folded the bag and tucked it into a po...</td>\n",
       "      <td>NaN</td>\n",
       "      <td>samuel adler classifies the harp as a plucked ...</td>\n",
       "      <td>the odd commercial worked as did the others th...</td>\n",
       "      <td>...</td>\n",
       "      <td>he knocks barry out and ties him to the batmob...</td>\n",
       "      <td>trowel dibber\\nthis dibber combines the featur...</td>\n",
       "      <td>he did so because a black tuxedo looked greeni...</td>\n",
       "      <td>because of the low biodiversity, nutrient use ...</td>\n",
       "      <td>this contrast appears to be shown on the two s...</td>\n",
       "      <td>to represent antigua and barbuda, agave karatt...</td>\n",
       "      <td>the impact of thousands of arrows, combined wi...</td>\n",
       "      <td>azerbaijan women's volleyball super league is ...</td>\n",
       "      <td>brussels is known for its cuisine and gastrono...</td>\n",
       "      <td>australian english glad wrap/cling wrap\\n comm...</td>\n",
       "    </tr>\n",
       "    <tr>\n",
       "      <th>4</th>\n",
       "      <td>NaN</td>\n",
       "      <td>(anthology) a 1980 anthology of science fictio...</td>\n",
       "      <td>NaN</td>\n",
       "      <td>NaN</td>\n",
       "      <td>NaN</td>\n",
       "      <td>these animals looked very different from today...</td>\n",
       "      <td>armstrong reminded aldrin of a bag of memorial...</td>\n",
       "      <td>NaN</td>\n",
       "      <td>most ferociously brilliant guitar album (snake...</td>\n",
       "      <td>1973   – the american league of major league b...</td>\n",
       "      <td>...</td>\n",
       "      <td>NaN</td>\n",
       "      <td>one end is for dibbing, and the other end is s...</td>\n",
       "      <td>marlene dietrich in a tuxedo was considered ve...</td>\n",
       "      <td>this sour, heavy crude oil blend is designed t...</td>\n",
       "      <td>also from this time frame, the darius vase was...</td>\n",
       "      <td>he was interviewed in his home at cobham hall ...</td>\n",
       "      <td>further when normal motorcycle conditions were...</td>\n",
       "      <td>azerbaijani volleyball players include likes o...</td>\n",
       "      <td>the \"winter wonders\" animate the heart of brus...</td>\n",
       "      <td>equivalent to australian english barrack\\n row...</td>\n",
       "    </tr>\n",
       "    <tr>\n",
       "      <th>...</th>\n",
       "      <td>...</td>\n",
       "      <td>...</td>\n",
       "      <td>...</td>\n",
       "      <td>...</td>\n",
       "      <td>...</td>\n",
       "      <td>...</td>\n",
       "      <td>...</td>\n",
       "      <td>...</td>\n",
       "      <td>...</td>\n",
       "      <td>...</td>\n",
       "      <td>...</td>\n",
       "      <td>...</td>\n",
       "      <td>...</td>\n",
       "      <td>...</td>\n",
       "      <td>...</td>\n",
       "      <td>...</td>\n",
       "      <td>...</td>\n",
       "      <td>...</td>\n",
       "      <td>...</td>\n",
       "      <td>...</td>\n",
       "      <td>...</td>\n",
       "    </tr>\n",
       "    <tr>\n",
       "      <th>95</th>\n",
       "      <td>NaN</td>\n",
       "      <td>in january 2012, universal music announced the...</td>\n",
       "      <td>NaN</td>\n",
       "      <td>NaN</td>\n",
       "      <td>NaN</td>\n",
       "      <td>NaN</td>\n",
       "      <td>this has led to bags being given a secondary u...</td>\n",
       "      <td>NaN</td>\n",
       "      <td>some 1920s irish banjo players picked out the ...</td>\n",
       "      <td>1908)\\n2007 – josh hancock, american baseball ...</td>\n",
       "      <td>...</td>\n",
       "      <td>NaN</td>\n",
       "      <td>NaN</td>\n",
       "      <td>NaN</td>\n",
       "      <td>also in 2016, the falcons unveiled a mixed thr...</td>\n",
       "      <td>NaN</td>\n",
       "      <td>NaN</td>\n",
       "      <td>NaN</td>\n",
       "      <td>NaN</td>\n",
       "      <td>NaN</td>\n",
       "      <td>NaN</td>\n",
       "    </tr>\n",
       "    <tr>\n",
       "      <th>96</th>\n",
       "      <td>NaN</td>\n",
       "      <td>here we go again, was announced; the film was ...</td>\n",
       "      <td>NaN</td>\n",
       "      <td>NaN</td>\n",
       "      <td>NaN</td>\n",
       "      <td>NaN</td>\n",
       "      <td>a specialized urine collection bag known collo...</td>\n",
       "      <td>NaN</td>\n",
       "      <td>the most important irish banjo player of this ...</td>\n",
       "      <td>2023 – former u.s. president donald trump is c...</td>\n",
       "      <td>...</td>\n",
       "      <td>NaN</td>\n",
       "      <td>NaN</td>\n",
       "      <td>NaN</td>\n",
       "      <td>the uniform tops, pants and socks closely rese...</td>\n",
       "      <td>NaN</td>\n",
       "      <td>NaN</td>\n",
       "      <td>NaN</td>\n",
       "      <td>NaN</td>\n",
       "      <td>NaN</td>\n",
       "      <td>NaN</td>\n",
       "    </tr>\n",
       "    <tr>\n",
       "      <th>97</th>\n",
       "      <td>NaN</td>\n",
       "      <td>five out of the eight original songs written b...</td>\n",
       "      <td>NaN</td>\n",
       "      <td>NaN</td>\n",
       "      <td>NaN</td>\n",
       "      <td>NaN</td>\n",
       "      <td>printed on the bag.</td>\n",
       "      <td>NaN</td>\n",
       "      <td>other pre-wwii irish banjo players included ne...</td>\n",
       "      <td>1929   – dick tiger, nigerian boxer (d. 1971)\\...</td>\n",
       "      <td>...</td>\n",
       "      <td>NaN</td>\n",
       "      <td>NaN</td>\n",
       "      <td>NaN</td>\n",
       "      <td>the ensuing design featured the return to blac...</td>\n",
       "      <td>NaN</td>\n",
       "      <td>NaN</td>\n",
       "      <td>NaN</td>\n",
       "      <td>NaN</td>\n",
       "      <td>NaN</td>\n",
       "      <td>NaN</td>\n",
       "    </tr>\n",
       "    <tr>\n",
       "      <th>98</th>\n",
       "      <td>NaN</td>\n",
       "      <td>on 29 august, the band officially joined tikto...</td>\n",
       "      <td>NaN</td>\n",
       "      <td>NaN</td>\n",
       "      <td>NaN</td>\n",
       "      <td>NaN</td>\n",
       "      <td>niki airlines uses sickbags with the legend sp...</td>\n",
       "      <td>NaN</td>\n",
       "      <td>meanwhile, in ireland, the rise of ceili bands...</td>\n",
       "      <td>1854)\\n1943 – joe kelley, american baseball pl...</td>\n",
       "      <td>...</td>\n",
       "      <td>NaN</td>\n",
       "      <td>NaN</td>\n",
       "      <td>NaN</td>\n",
       "      <td>the alternate uniform featured a red/black gra...</td>\n",
       "      <td>NaN</td>\n",
       "      <td>NaN</td>\n",
       "      <td>NaN</td>\n",
       "      <td>NaN</td>\n",
       "      <td>NaN</td>\n",
       "      <td>NaN</td>\n",
       "    </tr>\n",
       "    <tr>\n",
       "      <th>99</th>\n",
       "      <td>NaN</td>\n",
       "      <td>on that date, voyage, their first new album in...</td>\n",
       "      <td>NaN</td>\n",
       "      <td>NaN</td>\n",
       "      <td>NaN</td>\n",
       "      <td>NaN</td>\n",
       "      <td>see also\\naircraft safety card\\ninflight magaz...</td>\n",
       "      <td>NaN</td>\n",
       "      <td>use of the tenor banjo in irish music has incr...</td>\n",
       "      <td>1904)\\n1984 – spud davis, american baseball pl...</td>\n",
       "      <td>...</td>\n",
       "      <td>NaN</td>\n",
       "      <td>NaN</td>\n",
       "      <td>NaN</td>\n",
       "      <td>black pants are only used with this uniform.</td>\n",
       "      <td>NaN</td>\n",
       "      <td>NaN</td>\n",
       "      <td>NaN</td>\n",
       "      <td>NaN</td>\n",
       "      <td>NaN</td>\n",
       "      <td>NaN</td>\n",
       "    </tr>\n",
       "  </tbody>\n",
       "</table>\n",
       "<p>100 rows × 128 columns</p>\n",
       "</div>"
      ],
      "text/plain": [
       "                                               airbag  \\\n",
       "0   passengers were provided with helmets, airbag ...   \n",
       "1                                                 NaN   \n",
       "2                                                 NaN   \n",
       "3                                                 NaN   \n",
       "4                                                 NaN   \n",
       "..                                                ...   \n",
       "95                                                NaN   \n",
       "96                                                NaN   \n",
       "97                                                NaN   \n",
       "98                                                NaN   \n",
       "99                                                NaN   \n",
       "\n",
       "                                                album  \\\n",
       "0   temporary like achilles is a track on the 1966...   \n",
       "1   achilles, agony and ecstasy in eight parts is ...   \n",
       "2   achilles come down is a song on the 2017 gang ...   \n",
       "3   harry james released a version of the blues se...   \n",
       "4   (anthology) a 1980 anthology of science fictio...   \n",
       "..                                                ...   \n",
       "95  in january 2012, universal music announced the...   \n",
       "96  here we go again, was announced; the film was ...   \n",
       "97  five out of the eight original songs written b...   \n",
       "98  on 29 august, the band officially joined tikto...   \n",
       "99  on that date, voyage, their first new album in...   \n",
       "\n",
       "                                            appetizer  applesauce  \\\n",
       "0   ame: cilantro); entree (refers to ame appetize...         NaN   \n",
       "1   native olympia oysters are served on the half ...         NaN   \n",
       "2   a typical accompaniment or appetizer of all th...         NaN   \n",
       "3                                                 NaN         NaN   \n",
       "4                                                 NaN         NaN   \n",
       "..                                                ...         ...   \n",
       "95                                                NaN         NaN   \n",
       "96                                                NaN         NaN   \n",
       "97                                                NaN         NaN   \n",
       "98                                                NaN         NaN   \n",
       "99                                                NaN         NaN   \n",
       "\n",
       "    backscratcher                                             badger  \\\n",
       "0             NaN  traditional ainu cuisine consists of the meat ...   \n",
       "1             NaN  more abundant and in varied situations of cons...   \n",
       "2             NaN  eventually, during the height of the cold war,...   \n",
       "3             NaN  current examples include the strategic nuclear...   \n",
       "4             NaN  these animals looked very different from today...   \n",
       "..            ...                                                ...   \n",
       "95            NaN                                                NaN   \n",
       "96            NaN                                                NaN   \n",
       "97            NaN                                                NaN   \n",
       "98            NaN                                                NaN   \n",
       "99            NaN                                                NaN   \n",
       "\n",
       "                                                  bag  \\\n",
       "0   unique words in alabama english include: redwo...   \n",
       "1   in her only other appearance, she hastily thro...   \n",
       "2   about seven minutes after stepping onto the mo...   \n",
       "3   he then folded the bag and tucked it into a po...   \n",
       "4   armstrong reminded aldrin of a bag of memorial...   \n",
       "..                                                ...   \n",
       "95  this has led to bags being given a secondary u...   \n",
       "96  a specialized urine collection bag known collo...   \n",
       "97                                printed on the bag.   \n",
       "98  niki airlines uses sickbags with the legend sp...   \n",
       "99  see also\\naircraft safety card\\ninflight magaz...   \n",
       "\n",
       "                                              baklava  \\\n",
       "0   arab cuisine is also known for its sweets and ...   \n",
       "1                                                 NaN   \n",
       "2                                                 NaN   \n",
       "3                                                 NaN   \n",
       "4                                                 NaN   \n",
       "..                                                ...   \n",
       "95                                                NaN   \n",
       "96                                                NaN   \n",
       "97                                                NaN   \n",
       "98                                                NaN   \n",
       "99                                                NaN   \n",
       "\n",
       "                                                banjo  \\\n",
       "0   1949)\\n2007 – tommy makem, irish singer-songwr...   \n",
       "1   births\\n\\npre-1600\\n 317 – constantius ii, rom...   \n",
       "2   births\\n\\npre-1600\\n1355 – philippa, 5th count...   \n",
       "3   samuel adler classifies the harp as a plucked ...   \n",
       "4   most ferociously brilliant guitar album (snake...   \n",
       "..                                                ...   \n",
       "95  some 1920s irish banjo players picked out the ...   \n",
       "96  the most important irish banjo player of this ...   \n",
       "97  other pre-wwii irish banjo players included ne...   \n",
       "98  meanwhile, in ireland, the rise of ceili bands...   \n",
       "99  use of the tenor banjo in irish music has incr...   \n",
       "\n",
       "                                             baseball  ...  \\\n",
       "0   some notable examples of alabama literature in...  ...   \n",
       "1   women\\n aberdeen gsfp rfc, an amateur rugby un...  ...   \n",
       "2   the amsterdam pirates baseball team competes i...  ...   \n",
       "3   the odd commercial worked as did the others th...  ...   \n",
       "4   1973   – the american league of major league b...  ...   \n",
       "..                                                ...  ...   \n",
       "95  1908)\\n2007 – josh hancock, american baseball ...  ...   \n",
       "96  2023 – former u.s. president donald trump is c...  ...   \n",
       "97  1929   – dick tiger, nigerian boxer (d. 1971)\\...  ...   \n",
       "98  1854)\\n1943 – joe kelley, american baseball pl...  ...   \n",
       "99  1904)\\n1984 – spud davis, american baseball pl...  ...   \n",
       "\n",
       "                                            treadmill  \\\n",
       "0   pesticides select for pesticide resistance in ...   \n",
       "1   treadmills\\nbodyweight-supported treadmill tra...   \n",
       "2   at this time, the area contained large factori...   \n",
       "3   he knocks barry out and ties him to the batmob...   \n",
       "4                                                 NaN   \n",
       "..                                                ...   \n",
       "95                                                NaN   \n",
       "96                                                NaN   \n",
       "97                                                NaN   \n",
       "98                                                NaN   \n",
       "99                                                NaN   \n",
       "\n",
       "                                               trowel  \\\n",
       "0   he told matthew arnold, \"everybody likes flatt...   \n",
       "1   further classified as type a and type b based ...   \n",
       "2   dibbers come in a variety of designs including...   \n",
       "3   trowel dibber\\nthis dibber combines the featur...   \n",
       "4   one end is for dibbing, and the other end is s...   \n",
       "..                                                ...   \n",
       "95                                                NaN   \n",
       "96                                                NaN   \n",
       "97                                                NaN   \n",
       "98                                                NaN   \n",
       "99                                                NaN   \n",
       "\n",
       "                                               tuxedo  \\\n",
       "0   again according to legend, the first americans...   \n",
       "1   thereafter the jacket became known as a tuxedo...   \n",
       "2   the tuxedo was always black until the 1930s, w...   \n",
       "3   he did so because a black tuxedo looked greeni...   \n",
       "4   marlene dietrich in a tuxedo was considered ve...   \n",
       "..                                                ...   \n",
       "95                                                NaN   \n",
       "96                                                NaN   \n",
       "97                                                NaN   \n",
       "98                                                NaN   \n",
       "99                                                NaN   \n",
       "\n",
       "                                              uniform  \\\n",
       "0   despite separation, the various anarchist scho...   \n",
       "1   the 37 seconds result from the initial differe...   \n",
       "2   he carries a pistol and a lucky rabbit's foot,...   \n",
       "3   because of the low biodiversity, nutrient use ...   \n",
       "4   this sour, heavy crude oil blend is designed t...   \n",
       "..                                                ...   \n",
       "95  also in 2016, the falcons unveiled a mixed thr...   \n",
       "96  the uniform tops, pants and socks closely rese...   \n",
       "97  the ensuing design featured the return to blac...   \n",
       "98  the alternate uniform featured a red/black gra...   \n",
       "99       black pants are only used with this uniform.   \n",
       "\n",
       "                                                 vase  \\\n",
       "0   in the later vase paintings presenting the dea...   \n",
       "1   in book xxiii, the sad spirit of dead patroclu...   \n",
       "2   in the odyssey book xxiv we read dead king aga...   \n",
       "3   this contrast appears to be shown on the two s...   \n",
       "4   also from this time frame, the darius vase was...   \n",
       "..                                                ...   \n",
       "95                                                NaN   \n",
       "96                                                NaN   \n",
       "97                                                NaN   \n",
       "98                                                NaN   \n",
       "99                                                NaN   \n",
       "\n",
       "                                                 veil  \\\n",
       "0   in this sense, the literal meanings of 'alchem...   \n",
       "1   tavë kosi (\"soured milk casserole\") is the nat...   \n",
       "2   clare waight keller designed meghan markle's w...   \n",
       "3   to represent antigua and barbuda, agave karatt...   \n",
       "4   he was interviewed in his home at cobham hall ...   \n",
       "..                                                ...   \n",
       "95                                                NaN   \n",
       "96                                                NaN   \n",
       "97                                                NaN   \n",
       "98                                                NaN   \n",
       "99                                                NaN   \n",
       "\n",
       "                                                visor  \\\n",
       "0   the traditional visor helmet was replaced with...   \n",
       "1   in ame it can also refer to the visor of a cap...   \n",
       "2   a moveable visor (face guard) protected the face.   \n",
       "3   the impact of thousands of arrows, combined wi...   \n",
       "4   further when normal motorcycle conditions were...   \n",
       "..                                                ...   \n",
       "95                                                NaN   \n",
       "96                                                NaN   \n",
       "97                                                NaN   \n",
       "98                                                NaN   \n",
       "99                                                NaN   \n",
       "\n",
       "                                           volleyball  \\\n",
       "0   after 18 years the club returned to the top le...   \n",
       "1   the afghan sports federation promotes cricket,...   \n",
       "2   the albanian athletes have won a total of 43 (...   \n",
       "3   azerbaijan women's volleyball super league is ...   \n",
       "4   azerbaijani volleyball players include likes o...   \n",
       "..                                                ...   \n",
       "95                                                NaN   \n",
       "96                                                NaN   \n",
       "97                                                NaN   \n",
       "98                                                NaN   \n",
       "99                                                NaN   \n",
       "\n",
       "                                               waffle  \\\n",
       "0   (japan)\\n founding of asunción (paraguay)\\n in...   \n",
       "1   to further reduce weight, a lightweight magazi...   \n",
       "2   1987)\\n\\nholidays and observances\\nchristian f...   \n",
       "3   brussels is known for its cuisine and gastrono...   \n",
       "4   the \"winter wonders\" animate the heart of brus...   \n",
       "..                                                ...   \n",
       "95                                                NaN   \n",
       "96                                                NaN   \n",
       "97                                                NaN   \n",
       "98                                                NaN   \n",
       "99                                                NaN   \n",
       "\n",
       "                                                 wrap  \n",
       "0   objects wrap around screen edges – for instanc...  \n",
       "1   \"ink text\" captured the user's free-hand writi...  \n",
       "2   australian english nag\\n chrimbo: abbreviation...  \n",
       "3   australian english glad wrap/cling wrap\\n comm...  \n",
       "4   equivalent to australian english barrack\\n row...  \n",
       "..                                                ...  \n",
       "95                                                NaN  \n",
       "96                                                NaN  \n",
       "97                                                NaN  \n",
       "98                                                NaN  \n",
       "99                                                NaN  \n",
       "\n",
       "[100 rows x 128 columns]"
      ]
     },
     "execution_count": 10,
     "metadata": {},
     "output_type": "execute_result"
    }
   ],
   "source": [
    "word_sentences"
   ]
  },
  {
   "cell_type": "code",
   "execution_count": 12,
   "id": "42f9cb97",
   "metadata": {},
   "outputs": [],
   "source": [
    "\n",
    "def clear_hooks(m):\n",
    "    if hasattr(m, \"_forward_hooks\"):\n",
    "        m._forward_hooks.clear()\n",
    "    if hasattr(m, \"_forward_pre_hooks\"):\n",
    "        m._forward_pre_hooks.clear()\n",
    "    if hasattr(m, \"_backward_hooks\"):\n",
    "        m._backward_hooks.clear()\n",
    "\n",
    "llm.apply(clear_hooks)\n",
    "llm.gradient_checkpointing_disable()\n",
    "llm.model.language_model.gradient_checkpointing = False\n",
    "llm.config.gradient_checkpointing = False\n",
    "\n",
    "@torch.no_grad()\n",
    "def get_resid(sentence, word):\n",
    "    inputs = tokenizer(sentence, return_tensors=\"pt\").to(\"cuda\")\n",
    "    resid_out = {}\n",
    "\n",
    "    def hook_fn(module, _, output):\n",
    "        hidden = output[0] if isinstance(output, tuple) else output\n",
    "        resid_out[\"resid\"] = hidden.detach().cpu()\n",
    "\n",
    "    target_layer = llm.model.language_model.layers[1]\n",
    "    h = target_layer.mlp.register_forward_hook(hook_fn)\n",
    "    _ = llm(**inputs)\n",
    "    h.remove()\n",
    "\n",
    "    if \"resid\" not in resid_out:\n",
    "        return None\n",
    "\n",
    "    resid = resid_out[\"resid\"][0]\n",
    "    ids = inputs[\"input_ids\"][0].cpu().tolist()\n",
    "    tokens = [tokenizer.decode([i]).strip() for i in ids]\n",
    "\n",
    "    # Match on lowercase substring presence instead of exact token id\n",
    "    word_l = word.lower()\n",
    "    matches = [i for i, t in enumerate(tokens) if word_l in t.lower()]\n",
    "\n",
    "    if not matches:\n",
    "        return None\n",
    "\n",
    "    idx = matches[0]\n",
    "    return resid[idx].to(torch.float32).numpy()\n"
   ]
  },
  {
   "cell_type": "code",
   "execution_count": 13,
   "id": "e0a36e39",
   "metadata": {},
   "outputs": [
    {
     "name": "stdout",
     "output_type": "stream",
     "text": [
      "[ 0.45507812 -0.30664062  0.20507812 ... -0.21582031  0.05151367\n",
      "  0.24121094]\n"
     ]
    }
   ],
   "source": [
    "s=\"passengers were provided with helmets, airbag vests, and in-helmet, bluetooth cell phones.\"\n",
    "w=\"airbag\"\n",
    "\n",
    "res = get_resid(s, w)\n",
    "\n",
    "print(res)"
   ]
  },
  {
   "cell_type": "code",
   "execution_count": 19,
   "id": "fcc695fb",
   "metadata": {},
   "outputs": [
    {
     "name": "stderr",
     "output_type": "stream",
     "text": [
      "Extracting and saving residual embeddings:   0%|          | 0/128 [00:00<?, ?it/s]"
     ]
    },
    {
     "name": "stdout",
     "output_type": "stream",
     "text": [
      "airbag\n"
     ]
    },
    {
     "name": "stderr",
     "output_type": "stream",
     "text": [
      "Extracting and saving residual embeddings:   1%|          | 1/128 [00:00<01:33,  1.37it/s]"
     ]
    },
    {
     "name": "stdout",
     "output_type": "stream",
     "text": [
      "album\n"
     ]
    },
    {
     "name": "stderr",
     "output_type": "stream",
     "text": [
      "Extracting and saving residual embeddings:   2%|▏         | 2/128 [00:09<11:11,  5.33s/it]"
     ]
    },
    {
     "name": "stdout",
     "output_type": "stream",
     "text": [
      "appetizer\n"
     ]
    },
    {
     "name": "stderr",
     "output_type": "stream",
     "text": [
      "Extracting and saving residual embeddings:   2%|▏         | 3/128 [00:10<06:49,  3.28s/it]"
     ]
    },
    {
     "name": "stdout",
     "output_type": "stream",
     "text": [
      "applesauce\n"
     ]
    },
    {
     "name": "stderr",
     "output_type": "stream",
     "text": [
      "Extracting and saving residual embeddings:   3%|▎         | 4/128 [00:10<04:35,  2.22s/it]"
     ]
    },
    {
     "name": "stdout",
     "output_type": "stream",
     "text": [
      "backscratcher\n"
     ]
    },
    {
     "name": "stderr",
     "output_type": "stream",
     "text": [
      "Extracting and saving residual embeddings:   4%|▍         | 5/128 [00:11<03:21,  1.64s/it]"
     ]
    },
    {
     "name": "stdout",
     "output_type": "stream",
     "text": [
      "badger\n"
     ]
    },
    {
     "name": "stderr",
     "output_type": "stream",
     "text": [
      "Extracting and saving residual embeddings:   5%|▍         | 6/128 [00:13<03:24,  1.68s/it]"
     ]
    },
    {
     "name": "stdout",
     "output_type": "stream",
     "text": [
      "bag\n"
     ]
    },
    {
     "name": "stderr",
     "output_type": "stream",
     "text": [
      "Extracting and saving residual embeddings:   5%|▌         | 7/128 [00:20<07:27,  3.70s/it]"
     ]
    },
    {
     "name": "stdout",
     "output_type": "stream",
     "text": [
      "baklava\n"
     ]
    },
    {
     "name": "stderr",
     "output_type": "stream",
     "text": [
      "Extracting and saving residual embeddings:   6%|▋         | 8/128 [00:21<05:28,  2.74s/it]"
     ]
    },
    {
     "name": "stdout",
     "output_type": "stream",
     "text": [
      "banjo\n"
     ]
    },
    {
     "name": "stderr",
     "output_type": "stream",
     "text": [
      "Extracting and saving residual embeddings:   7%|▋         | 9/128 [00:31<09:35,  4.84s/it]"
     ]
    },
    {
     "name": "stdout",
     "output_type": "stream",
     "text": [
      "baseball\n"
     ]
    },
    {
     "name": "stderr",
     "output_type": "stream",
     "text": [
      "Extracting and saving residual embeddings:   8%|▊         | 10/128 [01:00<24:13, 12.32s/it]"
     ]
    },
    {
     "name": "stdout",
     "output_type": "stream",
     "text": [
      "baseball glove\n"
     ]
    },
    {
     "name": "stderr",
     "output_type": "stream",
     "text": [
      "Extracting and saving residual embeddings:   9%|▊         | 11/128 [01:00<17:04,  8.76s/it]"
     ]
    },
    {
     "name": "stdout",
     "output_type": "stream",
     "text": [
      "bassinet\n"
     ]
    },
    {
     "name": "stderr",
     "output_type": "stream",
     "text": [
      "Extracting and saving residual embeddings:   9%|▉         | 12/128 [01:01<12:08,  6.28s/it]"
     ]
    },
    {
     "name": "stdout",
     "output_type": "stream",
     "text": [
      "bassoon\n"
     ]
    },
    {
     "name": "stderr",
     "output_type": "stream",
     "text": [
      "Extracting and saving residual embeddings:  10%|█         | 13/128 [01:10<13:22,  6.98s/it]"
     ]
    },
    {
     "name": "stdout",
     "output_type": "stream",
     "text": [
      "bathrobe\n"
     ]
    },
    {
     "name": "stderr",
     "output_type": "stream",
     "text": [
      "Extracting and saving residual embeddings:  11%|█         | 14/128 [01:10<09:40,  5.09s/it]"
     ]
    },
    {
     "name": "stdout",
     "output_type": "stream",
     "text": [
      "bathtub\n"
     ]
    },
    {
     "name": "stderr",
     "output_type": "stream",
     "text": [
      "Extracting and saving residual embeddings:  12%|█▏        | 15/128 [01:11<07:16,  3.86s/it]"
     ]
    },
    {
     "name": "stdout",
     "output_type": "stream",
     "text": [
      "beachball\n"
     ]
    },
    {
     "name": "stderr",
     "output_type": "stream",
     "text": [
      "Extracting and saving residual embeddings:  12%|█▎        | 16/128 [01:12<05:22,  2.88s/it]"
     ]
    },
    {
     "name": "stdout",
     "output_type": "stream",
     "text": [
      "beanbag\n"
     ]
    },
    {
     "name": "stderr",
     "output_type": "stream",
     "text": [
      "Extracting and saving residual embeddings:  13%|█▎        | 17/128 [01:12<04:03,  2.20s/it]"
     ]
    },
    {
     "name": "stdout",
     "output_type": "stream",
     "text": [
      "beanie\n"
     ]
    },
    {
     "name": "stderr",
     "output_type": "stream",
     "text": [
      "Extracting and saving residual embeddings:  14%|█▍        | 18/128 [01:15<03:56,  2.15s/it]"
     ]
    },
    {
     "name": "stdout",
     "output_type": "stream",
     "text": [
      "bear\n"
     ]
    },
    {
     "name": "stderr",
     "output_type": "stream",
     "text": [
      "Extracting and saving residual embeddings:  15%|█▍        | 19/128 [01:23<07:11,  3.96s/it]"
     ]
    },
    {
     "name": "stdout",
     "output_type": "stream",
     "text": [
      "bed\n"
     ]
    },
    {
     "name": "stderr",
     "output_type": "stream",
     "text": [
      "Extracting and saving residual embeddings:  16%|█▌        | 20/128 [01:30<09:08,  5.08s/it]"
     ]
    },
    {
     "name": "stdout",
     "output_type": "stream",
     "text": [
      "beer\n"
     ]
    },
    {
     "name": "stderr",
     "output_type": "stream",
     "text": [
      "Extracting and saving residual embeddings:  16%|█▋        | 21/128 [01:46<14:51,  8.33s/it]"
     ]
    },
    {
     "name": "stdout",
     "output_type": "stream",
     "text": [
      "bench\n"
     ]
    },
    {
     "name": "stderr",
     "output_type": "stream",
     "text": [
      "Extracting and saving residual embeddings:  17%|█▋        | 22/128 [01:54<14:12,  8.05s/it]"
     ]
    },
    {
     "name": "stdout",
     "output_type": "stream",
     "text": [
      "blower\n"
     ]
    },
    {
     "name": "stderr",
     "output_type": "stream",
     "text": [
      "Extracting and saving residual embeddings:  18%|█▊        | 23/128 [01:55<10:29,  6.00s/it]"
     ]
    },
    {
     "name": "stdout",
     "output_type": "stream",
     "text": [
      "bok choy\n"
     ]
    },
    {
     "name": "stderr",
     "output_type": "stream",
     "text": [
      "Extracting and saving residual embeddings:  19%|█▉        | 24/128 [01:56<07:47,  4.50s/it]"
     ]
    },
    {
     "name": "stdout",
     "output_type": "stream",
     "text": [
      "bongo\n"
     ]
    },
    {
     "name": "stderr",
     "output_type": "stream",
     "text": [
      "Extracting and saving residual embeddings:  20%|█▉        | 25/128 [02:01<07:58,  4.65s/it]"
     ]
    },
    {
     "name": "stdout",
     "output_type": "stream",
     "text": [
      "bow\n"
     ]
    },
    {
     "name": "stderr",
     "output_type": "stream",
     "text": [
      "Extracting and saving residual embeddings:  20%|██        | 26/128 [02:09<09:29,  5.58s/it]"
     ]
    },
    {
     "name": "stdout",
     "output_type": "stream",
     "text": [
      "bracelet\n"
     ]
    },
    {
     "name": "stderr",
     "output_type": "stream",
     "text": [
      "Extracting and saving residual embeddings:  21%|██        | 27/128 [02:10<07:22,  4.39s/it]"
     ]
    },
    {
     "name": "stdout",
     "output_type": "stream",
     "text": [
      "bread\n"
     ]
    },
    {
     "name": "stderr",
     "output_type": "stream",
     "text": [
      "Extracting and saving residual embeddings:  22%|██▏       | 28/128 [02:19<09:19,  5.59s/it]"
     ]
    },
    {
     "name": "stdout",
     "output_type": "stream",
     "text": [
      "butterfly\n"
     ]
    },
    {
     "name": "stderr",
     "output_type": "stream",
     "text": [
      "Extracting and saving residual embeddings:  23%|██▎       | 29/128 [02:25<09:48,  5.94s/it]"
     ]
    },
    {
     "name": "stdout",
     "output_type": "stream",
     "text": [
      "button\n"
     ]
    },
    {
     "name": "stderr",
     "output_type": "stream",
     "text": [
      "Extracting and saving residual embeddings:  23%|██▎       | 30/128 [02:33<10:37,  6.50s/it]"
     ]
    },
    {
     "name": "stdout",
     "output_type": "stream",
     "text": [
      "cannonball\n"
     ]
    },
    {
     "name": "stderr",
     "output_type": "stream",
     "text": [
      "Extracting and saving residual embeddings:  24%|██▍       | 31/128 [02:34<07:54,  4.90s/it]"
     ]
    },
    {
     "name": "stdout",
     "output_type": "stream",
     "text": [
      "canvas\n"
     ]
    },
    {
     "name": "stderr",
     "output_type": "stream",
     "text": [
      "Extracting and saving residual embeddings:  25%|██▌       | 32/128 [02:39<07:40,  4.80s/it]"
     ]
    },
    {
     "name": "stdout",
     "output_type": "stream",
     "text": [
      "carriage\n"
     ]
    },
    {
     "name": "stderr",
     "output_type": "stream",
     "text": [
      "Extracting and saving residual embeddings:  26%|██▌       | 33/128 [02:46<08:48,  5.57s/it]"
     ]
    },
    {
     "name": "stdout",
     "output_type": "stream",
     "text": [
      "chainsaw\n"
     ]
    },
    {
     "name": "stderr",
     "output_type": "stream",
     "text": [
      "Extracting and saving residual embeddings:  27%|██▋       | 34/128 [02:47<06:30,  4.15s/it]"
     ]
    },
    {
     "name": "stdout",
     "output_type": "stream",
     "text": [
      "chaps\n"
     ]
    },
    {
     "name": "stderr",
     "output_type": "stream",
     "text": [
      "Extracting and saving residual embeddings:  27%|██▋       | 35/128 [02:48<04:47,  3.09s/it]"
     ]
    },
    {
     "name": "stdout",
     "output_type": "stream",
     "text": [
      "chipmunk\n"
     ]
    },
    {
     "name": "stderr",
     "output_type": "stream",
     "text": [
      "Extracting and saving residual embeddings:  28%|██▊       | 36/128 [02:49<03:44,  2.44s/it]"
     ]
    },
    {
     "name": "stdout",
     "output_type": "stream",
     "text": [
      "coaster\n"
     ]
    },
    {
     "name": "stderr",
     "output_type": "stream",
     "text": [
      "Extracting and saving residual embeddings:  29%|██▉       | 37/128 [02:52<04:04,  2.69s/it]"
     ]
    },
    {
     "name": "stdout",
     "output_type": "stream",
     "text": [
      "computer screen\n"
     ]
    },
    {
     "name": "stderr",
     "output_type": "stream",
     "text": [
      "Extracting and saving residual embeddings:  30%|██▉       | 38/128 [02:53<03:19,  2.22s/it]"
     ]
    },
    {
     "name": "stdout",
     "output_type": "stream",
     "text": [
      "cooker\n"
     ]
    },
    {
     "name": "stderr",
     "output_type": "stream",
     "text": [
      "Extracting and saving residual embeddings:  30%|███       | 39/128 [02:54<02:46,  1.87s/it]"
     ]
    },
    {
     "name": "stdout",
     "output_type": "stream",
     "text": [
      "cot\n"
     ]
    },
    {
     "name": "stderr",
     "output_type": "stream",
     "text": [
      "Extracting and saving residual embeddings:  31%|███▏      | 40/128 [02:55<02:26,  1.66s/it]"
     ]
    },
    {
     "name": "stdout",
     "output_type": "stream",
     "text": [
      "couch\n"
     ]
    },
    {
     "name": "stderr",
     "output_type": "stream",
     "text": [
      "Extracting and saving residual embeddings:  32%|███▏      | 41/128 [02:58<02:40,  1.84s/it]"
     ]
    },
    {
     "name": "stdout",
     "output_type": "stream",
     "text": [
      "cow\n"
     ]
    },
    {
     "name": "stderr",
     "output_type": "stream",
     "text": [
      "Extracting and saving residual embeddings:  33%|███▎      | 42/128 [03:05<04:57,  3.45s/it]"
     ]
    },
    {
     "name": "stdout",
     "output_type": "stream",
     "text": [
      "crepe\n"
     ]
    },
    {
     "name": "stderr",
     "output_type": "stream",
     "text": [
      "Extracting and saving residual embeddings:  34%|███▎      | 43/128 [03:06<03:46,  2.66s/it]"
     ]
    },
    {
     "name": "stdout",
     "output_type": "stream",
     "text": [
      "crib\n"
     ]
    },
    {
     "name": "stderr",
     "output_type": "stream",
     "text": [
      "Extracting and saving residual embeddings:  34%|███▍      | 44/128 [03:07<03:23,  2.42s/it]"
     ]
    },
    {
     "name": "stdout",
     "output_type": "stream",
     "text": [
      "crow\n"
     ]
    },
    {
     "name": "stderr",
     "output_type": "stream",
     "text": [
      "Extracting and saving residual embeddings:  35%|███▌      | 45/128 [03:17<06:09,  4.46s/it]"
     ]
    },
    {
     "name": "stdout",
     "output_type": "stream",
     "text": [
      "cupcake\n"
     ]
    },
    {
     "name": "stderr",
     "output_type": "stream",
     "text": [
      "Extracting and saving residual embeddings:  36%|███▌      | 46/128 [03:18<04:36,  3.37s/it]"
     ]
    },
    {
     "name": "stdout",
     "output_type": "stream",
     "text": [
      "cymbal\n"
     ]
    },
    {
     "name": "stderr",
     "output_type": "stream",
     "text": [
      "Extracting and saving residual embeddings:  37%|███▋      | 47/128 [03:20<04:22,  3.24s/it]"
     ]
    },
    {
     "name": "stdout",
     "output_type": "stream",
     "text": [
      "dessert\n"
     ]
    },
    {
     "name": "stderr",
     "output_type": "stream",
     "text": [
      "Extracting and saving residual embeddings:  38%|███▊      | 48/128 [03:24<04:24,  3.30s/it]"
     ]
    },
    {
     "name": "stdout",
     "output_type": "stream",
     "text": [
      "doily\n"
     ]
    },
    {
     "name": "stderr",
     "output_type": "stream",
     "text": [
      "Extracting and saving residual embeddings:  38%|███▊      | 49/128 [03:25<03:17,  2.51s/it]"
     ]
    },
    {
     "name": "stdout",
     "output_type": "stream",
     "text": [
      "doorknob\n"
     ]
    },
    {
     "name": "stderr",
     "output_type": "stream",
     "text": [
      "Extracting and saving residual embeddings:  39%|███▉      | 50/128 [03:25<02:31,  1.94s/it]"
     ]
    },
    {
     "name": "stdout",
     "output_type": "stream",
     "text": [
      "doorknocker\n"
     ]
    },
    {
     "name": "stderr",
     "output_type": "stream",
     "text": [
      "Extracting and saving residual embeddings:  40%|███▉      | 51/128 [03:26<01:58,  1.54s/it]"
     ]
    },
    {
     "name": "stdout",
     "output_type": "stream",
     "text": [
      "dough\n"
     ]
    },
    {
     "name": "stderr",
     "output_type": "stream",
     "text": [
      "Extracting and saving residual embeddings:  41%|████      | 52/128 [03:28<02:19,  1.84s/it]"
     ]
    },
    {
     "name": "stdout",
     "output_type": "stream",
     "text": [
      "enchilada\n"
     ]
    },
    {
     "name": "stderr",
     "output_type": "stream",
     "text": [
      "Extracting and saving residual embeddings:  41%|████▏     | 53/128 [03:29<01:50,  1.47s/it]"
     ]
    },
    {
     "name": "stdout",
     "output_type": "stream",
     "text": [
      "exhaust pipe\n"
     ]
    },
    {
     "name": "stderr",
     "output_type": "stream",
     "text": [
      "Extracting and saving residual embeddings:  42%|████▏     | 54/128 [03:30<01:31,  1.24s/it]"
     ]
    },
    {
     "name": "stdout",
     "output_type": "stream",
     "text": [
      "extinguisher\n"
     ]
    },
    {
     "name": "stderr",
     "output_type": "stream",
     "text": [
      "Extracting and saving residual embeddings:  43%|████▎     | 55/128 [03:31<01:24,  1.16s/it]"
     ]
    },
    {
     "name": "stdout",
     "output_type": "stream",
     "text": [
      "fire alarm\n"
     ]
    },
    {
     "name": "stderr",
     "output_type": "stream",
     "text": [
      "Extracting and saving residual embeddings:  44%|████▍     | 56/128 [03:31<01:14,  1.03s/it]"
     ]
    },
    {
     "name": "stdout",
     "output_type": "stream",
     "text": [
      "fishbowl\n"
     ]
    },
    {
     "name": "stderr",
     "output_type": "stream",
     "text": [
      "Extracting and saving residual embeddings:  45%|████▍     | 57/128 [03:32<01:09,  1.02it/s]"
     ]
    },
    {
     "name": "stdout",
     "output_type": "stream",
     "text": [
      "flower\n"
     ]
    },
    {
     "name": "stderr",
     "output_type": "stream",
     "text": [
      "Extracting and saving residual embeddings:  45%|████▌     | 58/128 [03:41<03:58,  3.41s/it]"
     ]
    },
    {
     "name": "stdout",
     "output_type": "stream",
     "text": [
      "fly\n"
     ]
    },
    {
     "name": "stderr",
     "output_type": "stream",
     "text": [
      "Extracting and saving residual embeddings:  46%|████▌     | 59/128 [03:49<05:29,  4.77s/it]"
     ]
    },
    {
     "name": "stdout",
     "output_type": "stream",
     "text": [
      "giraffe\n"
     ]
    },
    {
     "name": "stderr",
     "output_type": "stream",
     "text": [
      "Extracting and saving residual embeddings:  47%|████▋     | 60/128 [03:50<04:06,  3.62s/it]"
     ]
    },
    {
     "name": "stdout",
     "output_type": "stream",
     "text": [
      "gourd\n"
     ]
    },
    {
     "name": "stderr",
     "output_type": "stream",
     "text": [
      "Extracting and saving residual embeddings:  48%|████▊     | 61/128 [03:52<03:21,  3.00s/it]"
     ]
    },
    {
     "name": "stdout",
     "output_type": "stream",
     "text": [
      "grapefruit\n"
     ]
    },
    {
     "name": "stderr",
     "output_type": "stream",
     "text": [
      "Extracting and saving residual embeddings:  48%|████▊     | 62/128 [03:53<02:45,  2.51s/it]"
     ]
    },
    {
     "name": "stdout",
     "output_type": "stream",
     "text": [
      "grasshopper\n"
     ]
    },
    {
     "name": "stderr",
     "output_type": "stream",
     "text": [
      "Extracting and saving residual embeddings:  49%|████▉     | 63/128 [03:54<02:11,  2.03s/it]"
     ]
    },
    {
     "name": "stdout",
     "output_type": "stream",
     "text": [
      "gravy\n"
     ]
    },
    {
     "name": "stderr",
     "output_type": "stream",
     "text": [
      "Extracting and saving residual embeddings:  50%|█████     | 64/128 [03:55<01:54,  1.79s/it]"
     ]
    },
    {
     "name": "stdout",
     "output_type": "stream",
     "text": [
      "guitar\n"
     ]
    },
    {
     "name": "stderr",
     "output_type": "stream",
     "text": [
      "Extracting and saving residual embeddings:  51%|█████     | 65/128 [04:08<05:17,  5.04s/it]"
     ]
    },
    {
     "name": "stdout",
     "output_type": "stream",
     "text": [
      "hat\n"
     ]
    },
    {
     "name": "stderr",
     "output_type": "stream",
     "text": [
      "Extracting and saving residual embeddings:  52%|█████▏    | 66/128 [04:19<07:14,  7.01s/it]"
     ]
    },
    {
     "name": "stdout",
     "output_type": "stream",
     "text": [
      "hatchet\n"
     ]
    },
    {
     "name": "stderr",
     "output_type": "stream",
     "text": [
      "Extracting and saving residual embeddings:  52%|█████▏    | 67/128 [04:22<05:37,  5.54s/it]"
     ]
    },
    {
     "name": "stdout",
     "output_type": "stream",
     "text": [
      "honeypot\n"
     ]
    },
    {
     "name": "stderr",
     "output_type": "stream",
     "text": [
      "Extracting and saving residual embeddings:  53%|█████▎    | 68/128 [04:22<04:06,  4.11s/it]"
     ]
    },
    {
     "name": "stdout",
     "output_type": "stream",
     "text": [
      "hot-air balloon\n"
     ]
    },
    {
     "name": "stderr",
     "output_type": "stream",
     "text": [
      "Extracting and saving residual embeddings:  54%|█████▍    | 69/128 [04:23<03:03,  3.11s/it]"
     ]
    },
    {
     "name": "stdout",
     "output_type": "stream",
     "text": [
      "hula hoop\n"
     ]
    },
    {
     "name": "stderr",
     "output_type": "stream",
     "text": [
      "Extracting and saving residual embeddings:  55%|█████▍    | 70/128 [04:24<02:17,  2.37s/it]"
     ]
    },
    {
     "name": "stdout",
     "output_type": "stream",
     "text": [
      "hummus\n"
     ]
    },
    {
     "name": "stderr",
     "output_type": "stream",
     "text": [
      "Extracting and saving residual embeddings:  55%|█████▌    | 71/128 [04:24<01:46,  1.88s/it]"
     ]
    },
    {
     "name": "stdout",
     "output_type": "stream",
     "text": [
      "humvee\n"
     ]
    },
    {
     "name": "stderr",
     "output_type": "stream",
     "text": [
      "Extracting and saving residual embeddings:  56%|█████▋    | 72/128 [04:25<01:29,  1.60s/it]"
     ]
    },
    {
     "name": "stdout",
     "output_type": "stream",
     "text": [
      "hyena\n"
     ]
    },
    {
     "name": "stderr",
     "output_type": "stream",
     "text": [
      "Extracting and saving residual embeddings:  57%|█████▋    | 73/128 [04:28<01:45,  1.91s/it]"
     ]
    },
    {
     "name": "stdout",
     "output_type": "stream",
     "text": [
      "iguana\n"
     ]
    },
    {
     "name": "stderr",
     "output_type": "stream",
     "text": [
      "Extracting and saving residual embeddings:  58%|█████▊    | 74/128 [04:29<01:29,  1.65s/it]"
     ]
    },
    {
     "name": "stdout",
     "output_type": "stream",
     "text": [
      "jeans\n"
     ]
    },
    {
     "name": "stderr",
     "output_type": "stream",
     "text": [
      "Extracting and saving residual embeddings:  59%|█████▊    | 75/128 [04:31<01:31,  1.72s/it]"
     ]
    },
    {
     "name": "stdout",
     "output_type": "stream",
     "text": [
      "kilt\n"
     ]
    },
    {
     "name": "stderr",
     "output_type": "stream",
     "text": [
      "Extracting and saving residual embeddings:  59%|█████▉    | 76/128 [04:32<01:17,  1.49s/it]"
     ]
    },
    {
     "name": "stdout",
     "output_type": "stream",
     "text": [
      "kimono\n"
     ]
    },
    {
     "name": "stderr",
     "output_type": "stream",
     "text": [
      "Extracting and saving residual embeddings:  60%|██████    | 77/128 [04:33<01:05,  1.28s/it]"
     ]
    },
    {
     "name": "stdout",
     "output_type": "stream",
     "text": [
      "kneepad\n"
     ]
    },
    {
     "name": "stderr",
     "output_type": "stream",
     "text": [
      "Extracting and saving residual embeddings:  61%|██████    | 78/128 [04:33<00:54,  1.09s/it]"
     ]
    },
    {
     "name": "stdout",
     "output_type": "stream",
     "text": [
      "knitting needle\n"
     ]
    },
    {
     "name": "stderr",
     "output_type": "stream",
     "text": [
      "Extracting and saving residual embeddings:  62%|██████▏   | 79/128 [04:34<00:46,  1.06it/s]"
     ]
    },
    {
     "name": "stdout",
     "output_type": "stream",
     "text": [
      "knob\n"
     ]
    },
    {
     "name": "stderr",
     "output_type": "stream",
     "text": [
      "Extracting and saving residual embeddings:  62%|██████▎   | 80/128 [04:36<00:56,  1.18s/it]"
     ]
    },
    {
     "name": "stdout",
     "output_type": "stream",
     "text": [
      "lawnmower\n"
     ]
    },
    {
     "name": "stderr",
     "output_type": "stream",
     "text": [
      "Extracting and saving residual embeddings:  63%|██████▎   | 81/128 [04:37<00:51,  1.11s/it]"
     ]
    },
    {
     "name": "stdout",
     "output_type": "stream",
     "text": [
      "leek\n"
     ]
    },
    {
     "name": "stderr",
     "output_type": "stream",
     "text": [
      "Extracting and saving residual embeddings:  64%|██████▍   | 82/128 [04:38<00:59,  1.29s/it]"
     ]
    },
    {
     "name": "stdout",
     "output_type": "stream",
     "text": [
      "lion\n"
     ]
    },
    {
     "name": "stderr",
     "output_type": "stream",
     "text": [
      "Extracting and saving residual embeddings:  65%|██████▍   | 83/128 [04:47<02:41,  3.60s/it]"
     ]
    },
    {
     "name": "stdout",
     "output_type": "stream",
     "text": [
      "mango\n"
     ]
    },
    {
     "name": "stderr",
     "output_type": "stream",
     "text": [
      "Extracting and saving residual embeddings:  66%|██████▌   | 84/128 [04:51<02:33,  3.48s/it]"
     ]
    },
    {
     "name": "stdout",
     "output_type": "stream",
     "text": [
      "margarita\n"
     ]
    },
    {
     "name": "stderr",
     "output_type": "stream",
     "text": [
      "Extracting and saving residual embeddings:  66%|██████▋   | 85/128 [04:53<02:17,  3.20s/it]"
     ]
    },
    {
     "name": "stdout",
     "output_type": "stream",
     "text": [
      "mashed potato\n"
     ]
    },
    {
     "name": "stderr",
     "output_type": "stream",
     "text": [
      "Extracting and saving residual embeddings:  67%|██████▋   | 86/128 [04:54<01:43,  2.47s/it]"
     ]
    },
    {
     "name": "stdout",
     "output_type": "stream",
     "text": [
      "milkshake\n"
     ]
    },
    {
     "name": "stderr",
     "output_type": "stream",
     "text": [
      "Extracting and saving residual embeddings:  68%|██████▊   | 87/128 [04:57<01:53,  2.77s/it]"
     ]
    },
    {
     "name": "stdout",
     "output_type": "stream",
     "text": [
      "missile\n"
     ]
    },
    {
     "name": "stderr",
     "output_type": "stream",
     "text": [
      "Extracting and saving residual embeddings:  69%|██████▉   | 88/128 [05:05<02:55,  4.39s/it]"
     ]
    },
    {
     "name": "stdout",
     "output_type": "stream",
     "text": [
      "mosquito\n"
     ]
    },
    {
     "name": "stderr",
     "output_type": "stream",
     "text": [
      "Extracting and saving residual embeddings:  70%|██████▉   | 89/128 [05:08<02:24,  3.69s/it]"
     ]
    },
    {
     "name": "stdout",
     "output_type": "stream",
     "text": [
      "mouse\n"
     ]
    },
    {
     "name": "stderr",
     "output_type": "stream",
     "text": [
      "Extracting and saving residual embeddings:  70%|███████   | 90/128 [05:17<03:25,  5.41s/it]"
     ]
    },
    {
     "name": "stdout",
     "output_type": "stream",
     "text": [
      "oatmeal\n"
     ]
    },
    {
     "name": "stderr",
     "output_type": "stream",
     "text": [
      "Extracting and saving residual embeddings:  71%|███████   | 91/128 [05:18<02:31,  4.09s/it]"
     ]
    },
    {
     "name": "stdout",
     "output_type": "stream",
     "text": [
      "odometer\n"
     ]
    },
    {
     "name": "stderr",
     "output_type": "stream",
     "text": [
      "Extracting and saving residual embeddings:  72%|███████▏  | 92/128 [05:19<01:52,  3.12s/it]"
     ]
    },
    {
     "name": "stdout",
     "output_type": "stream",
     "text": [
      "owl\n"
     ]
    },
    {
     "name": "stderr",
     "output_type": "stream",
     "text": [
      "Extracting and saving residual embeddings:  73%|███████▎  | 93/128 [05:27<02:46,  4.74s/it]"
     ]
    },
    {
     "name": "stdout",
     "output_type": "stream",
     "text": [
      "parfait\n"
     ]
    },
    {
     "name": "stderr",
     "output_type": "stream",
     "text": [
      "Extracting and saving residual embeddings:  73%|███████▎  | 94/128 [05:28<01:59,  3.51s/it]"
     ]
    },
    {
     "name": "stdout",
     "output_type": "stream",
     "text": [
      "parrot\n"
     ]
    },
    {
     "name": "stderr",
     "output_type": "stream",
     "text": [
      "Extracting and saving residual embeddings:  74%|███████▍  | 95/128 [05:31<01:51,  3.37s/it]"
     ]
    },
    {
     "name": "stdout",
     "output_type": "stream",
     "text": [
      "pinball\n"
     ]
    },
    {
     "name": "stderr",
     "output_type": "stream",
     "text": [
      "Extracting and saving residual embeddings:  75%|███████▌  | 96/128 [05:32<01:28,  2.78s/it]"
     ]
    },
    {
     "name": "stdout",
     "output_type": "stream",
     "text": [
      "pocket watch\n"
     ]
    },
    {
     "name": "stderr",
     "output_type": "stream",
     "text": [
      "Extracting and saving residual embeddings:  76%|███████▌  | 97/128 [05:33<01:07,  2.16s/it]"
     ]
    },
    {
     "name": "stdout",
     "output_type": "stream",
     "text": [
      "puffin\n"
     ]
    },
    {
     "name": "stderr",
     "output_type": "stream",
     "text": [
      "Extracting and saving residual embeddings:  77%|███████▋  | 98/128 [05:34<00:55,  1.86s/it]"
     ]
    },
    {
     "name": "stdout",
     "output_type": "stream",
     "text": [
      "pumpkin\n"
     ]
    },
    {
     "name": "stderr",
     "output_type": "stream",
     "text": [
      "Extracting and saving residual embeddings:  77%|███████▋  | 99/128 [05:37<01:02,  2.15s/it]"
     ]
    },
    {
     "name": "stdout",
     "output_type": "stream",
     "text": [
      "quesadilla\n"
     ]
    },
    {
     "name": "stderr",
     "output_type": "stream",
     "text": [
      "Extracting and saving residual embeddings:  78%|███████▊  | 100/128 [05:38<00:47,  1.69s/it]"
     ]
    },
    {
     "name": "stdout",
     "output_type": "stream",
     "text": [
      "quiche\n"
     ]
    },
    {
     "name": "stderr",
     "output_type": "stream",
     "text": [
      "Extracting and saving residual embeddings:  79%|███████▉  | 101/128 [05:39<00:38,  1.42s/it]"
     ]
    },
    {
     "name": "stdout",
     "output_type": "stream",
     "text": [
      "ravioli\n"
     ]
    },
    {
     "name": "stderr",
     "output_type": "stream",
     "text": [
      "Extracting and saving residual embeddings:  80%|███████▉  | 102/128 [05:40<00:33,  1.27s/it]"
     ]
    },
    {
     "name": "stdout",
     "output_type": "stream",
     "text": [
      "sea urchin\n"
     ]
    },
    {
     "name": "stderr",
     "output_type": "stream",
     "text": [
      "Extracting and saving residual embeddings:  80%|████████  | 103/128 [05:40<00:27,  1.09s/it]"
     ]
    },
    {
     "name": "stdout",
     "output_type": "stream",
     "text": [
      "shuffleboard\n"
     ]
    },
    {
     "name": "stderr",
     "output_type": "stream",
     "text": [
      "Extracting and saving residual embeddings:  81%|████████▏ | 104/128 [05:41<00:25,  1.05s/it]"
     ]
    },
    {
     "name": "stdout",
     "output_type": "stream",
     "text": [
      "skeleton\n"
     ]
    },
    {
     "name": "stderr",
     "output_type": "stream",
     "text": [
      "Extracting and saving residual embeddings:  82%|████████▏ | 105/128 [05:49<01:10,  3.07s/it]"
     ]
    },
    {
     "name": "stdout",
     "output_type": "stream",
     "text": [
      "snail\n"
     ]
    },
    {
     "name": "stderr",
     "output_type": "stream",
     "text": [
      "Extracting and saving residual embeddings:  83%|████████▎ | 106/128 [05:51<01:01,  2.77s/it]"
     ]
    },
    {
     "name": "stdout",
     "output_type": "stream",
     "text": [
      "snake\n"
     ]
    },
    {
     "name": "stderr",
     "output_type": "stream",
     "text": [
      "Extracting and saving residual embeddings:  84%|████████▎ | 107/128 [06:00<01:34,  4.51s/it]"
     ]
    },
    {
     "name": "stdout",
     "output_type": "stream",
     "text": [
      "souffle\n"
     ]
    },
    {
     "name": "stderr",
     "output_type": "stream",
     "text": [
      "Extracting and saving residual embeddings:  84%|████████▍ | 108/128 [06:00<01:07,  3.38s/it]"
     ]
    },
    {
     "name": "stdout",
     "output_type": "stream",
     "text": [
      "stew\n"
     ]
    },
    {
     "name": "stderr",
     "output_type": "stream",
     "text": [
      "Extracting and saving residual embeddings:  85%|████████▌ | 109/128 [06:04<01:03,  3.34s/it]"
     ]
    },
    {
     "name": "stdout",
     "output_type": "stream",
     "text": [
      "swab\n"
     ]
    },
    {
     "name": "stderr",
     "output_type": "stream",
     "text": [
      "Extracting and saving residual embeddings:  86%|████████▌ | 110/128 [06:05<00:47,  2.62s/it]"
     ]
    },
    {
     "name": "stdout",
     "output_type": "stream",
     "text": [
      "taillight\n"
     ]
    },
    {
     "name": "stderr",
     "output_type": "stream",
     "text": [
      "Extracting and saving residual embeddings:  87%|████████▋ | 111/128 [06:05<00:34,  2.05s/it]"
     ]
    },
    {
     "name": "stdout",
     "output_type": "stream",
     "text": [
      "tank\n"
     ]
    },
    {
     "name": "stderr",
     "output_type": "stream",
     "text": [
      "Extracting and saving residual embeddings:  88%|████████▊ | 112/128 [06:13<01:00,  3.75s/it]"
     ]
    },
    {
     "name": "stdout",
     "output_type": "stream",
     "text": [
      "tarantula\n"
     ]
    },
    {
     "name": "stderr",
     "output_type": "stream",
     "text": [
      "Extracting and saving residual embeddings:  88%|████████▊ | 113/128 [06:14<00:42,  2.81s/it]"
     ]
    },
    {
     "name": "stdout",
     "output_type": "stream",
     "text": [
      "taxi\n"
     ]
    },
    {
     "name": "stderr",
     "output_type": "stream",
     "text": [
      "Extracting and saving residual embeddings:  89%|████████▉ | 114/128 [06:21<00:59,  4.27s/it]"
     ]
    },
    {
     "name": "stdout",
     "output_type": "stream",
     "text": [
      "tennis ball\n"
     ]
    },
    {
     "name": "stderr",
     "output_type": "stream",
     "text": [
      "Extracting and saving residual embeddings:  90%|████████▉ | 115/128 [06:22<00:41,  3.22s/it]"
     ]
    },
    {
     "name": "stdout",
     "output_type": "stream",
     "text": [
      "thermos\n"
     ]
    },
    {
     "name": "stderr",
     "output_type": "stream",
     "text": [
      "Extracting and saving residual embeddings:  91%|█████████ | 116/128 [06:23<00:30,  2.55s/it]"
     ]
    },
    {
     "name": "stdout",
     "output_type": "stream",
     "text": [
      "toilet paper\n"
     ]
    },
    {
     "name": "stderr",
     "output_type": "stream",
     "text": [
      "Extracting and saving residual embeddings:  91%|█████████▏| 117/128 [06:24<00:22,  2.04s/it]"
     ]
    },
    {
     "name": "stdout",
     "output_type": "stream",
     "text": [
      "tortellini\n"
     ]
    },
    {
     "name": "stderr",
     "output_type": "stream",
     "text": [
      "Extracting and saving residual embeddings:  92%|█████████▏| 118/128 [06:24<00:16,  1.62s/it]"
     ]
    },
    {
     "name": "stdout",
     "output_type": "stream",
     "text": [
      "treadmill\n"
     ]
    },
    {
     "name": "stderr",
     "output_type": "stream",
     "text": [
      "Extracting and saving residual embeddings:  93%|█████████▎| 119/128 [06:25<00:12,  1.42s/it]"
     ]
    },
    {
     "name": "stdout",
     "output_type": "stream",
     "text": [
      "trowel\n"
     ]
    },
    {
     "name": "stderr",
     "output_type": "stream",
     "text": [
      "Extracting and saving residual embeddings:  94%|█████████▍| 120/128 [06:26<00:10,  1.30s/it]"
     ]
    },
    {
     "name": "stdout",
     "output_type": "stream",
     "text": [
      "tuxedo\n"
     ]
    },
    {
     "name": "stderr",
     "output_type": "stream",
     "text": [
      "Extracting and saving residual embeddings:  95%|█████████▍| 121/128 [06:28<00:08,  1.23s/it]"
     ]
    },
    {
     "name": "stdout",
     "output_type": "stream",
     "text": [
      "uniform\n"
     ]
    },
    {
     "name": "stderr",
     "output_type": "stream",
     "text": [
      "Extracting and saving residual embeddings:  95%|█████████▌| 122/128 [06:35<00:19,  3.20s/it]"
     ]
    },
    {
     "name": "stdout",
     "output_type": "stream",
     "text": [
      "vase\n"
     ]
    },
    {
     "name": "stderr",
     "output_type": "stream",
     "text": [
      "Extracting and saving residual embeddings:  96%|█████████▌| 123/128 [06:44<00:24,  4.88s/it]"
     ]
    },
    {
     "name": "stdout",
     "output_type": "stream",
     "text": [
      "veil\n"
     ]
    },
    {
     "name": "stderr",
     "output_type": "stream",
     "text": [
      "Extracting and saving residual embeddings:  97%|█████████▋| 124/128 [06:47<00:17,  4.35s/it]"
     ]
    },
    {
     "name": "stdout",
     "output_type": "stream",
     "text": [
      "visor\n"
     ]
    },
    {
     "name": "stderr",
     "output_type": "stream",
     "text": [
      "Extracting and saving residual embeddings:  98%|█████████▊| 125/128 [06:48<00:10,  3.39s/it]"
     ]
    },
    {
     "name": "stdout",
     "output_type": "stream",
     "text": [
      "volleyball\n"
     ]
    },
    {
     "name": "stderr",
     "output_type": "stream",
     "text": [
      "Extracting and saving residual embeddings:  98%|█████████▊| 126/128 [07:13<00:19,  9.61s/it]"
     ]
    },
    {
     "name": "stdout",
     "output_type": "stream",
     "text": [
      "waffle\n"
     ]
    },
    {
     "name": "stderr",
     "output_type": "stream",
     "text": [
      "Extracting and saving residual embeddings:  99%|█████████▉| 127/128 [07:14<00:07,  7.19s/it]"
     ]
    },
    {
     "name": "stdout",
     "output_type": "stream",
     "text": [
      "wrap\n"
     ]
    },
    {
     "name": "stderr",
     "output_type": "stream",
     "text": [
      "Extracting and saving residual embeddings: 100%|██████████| 128/128 [07:16<00:00,  3.41s/it]\n"
     ]
    }
   ],
   "source": [
    "import os\n",
    "from tqdm import tqdm\n",
    "import numpy as np\n",
    "import torch, gc\n",
    "\n",
    "os.makedirs(\"embed_wiki\", exist_ok=True)\n",
    "\n",
    "def cleanup_tensors():\n",
    "    gc.collect()\n",
    "    torch.cuda.empty_cache()\n",
    "    torch.cuda.synchronize()\n",
    "    for obj in gc.get_objects():\n",
    "        try:\n",
    "            if torch.is_tensor(obj):\n",
    "                del obj\n",
    "        except:\n",
    "            pass\n",
    "    gc.collect()\n",
    "    torch.cuda.empty_cache()\n",
    "    torch.cuda.synchronize()\n",
    "\n",
    "for word in tqdm(word_sentences.columns, desc=\"Extracting and saving residual embeddings\"):\n",
    "    sents = word_sentences[word].dropna().tolist()\n",
    "    vecs = []\n",
    "    print(word)\n",
    "\n",
    "    for s in sents:\n",
    "        v = get_resid(s, word)\n",
    "        if v is not None:\n",
    "            vecs.append(v)\n",
    "\n",
    "    if len(vecs) > 0:\n",
    "        mean_vec = np.mean(vecs, axis=0)\n",
    "        np.savetxt(f\"embed_wiki/{word}.txt\", mean_vec)\n",
    "    else:\n",
    "        np.savetxt(f\"embed_wiki/{word}.txt\", np.array([]))\n",
    "\n",
    "    cleanup_tensors()\n"
   ]
  },
  {
   "cell_type": "code",
   "execution_count": 14,
   "id": "ddd635b6",
   "metadata": {},
   "outputs": [],
   "source": [
    "import os\n",
    "import gc\n",
    "import torch\n",
    "import numpy as np\n",
    "import pandas as pd\n",
    "from tqdm import tqdm\n",
    "from sklearn.decomposition import PCA\n",
    "\n",
    "def extract_and_reduce_resid_embeddings(llm, layer_id=1, output_root=\"embed_wiki\"):\n",
    "    output_dir = os.path.join(output_root, str(layer_id))\n",
    "    os.makedirs(output_dir, exist_ok=True)\n",
    "\n",
    "    def clear_hooks(m):\n",
    "        if hasattr(m, \"_forward_hooks\"):\n",
    "            m._forward_hooks.clear()\n",
    "        if hasattr(m, \"_forward_pre_hooks\"):\n",
    "            m._forward_pre_hooks.clear()\n",
    "        if hasattr(m, \"_backward_hooks\"):\n",
    "            m._backward_hooks.clear()\n",
    "\n",
    "    llm.apply(clear_hooks)\n",
    "    llm.gradient_checkpointing_disable()\n",
    "    llm.model.language_model.gradient_checkpointing = False\n",
    "    llm.config.gradient_checkpointing = False\n",
    "\n",
    "    @torch.no_grad()\n",
    "    def get_resid(sentence, word):\n",
    "        inputs = tokenizer(sentence, return_tensors=\"pt\").to(\"cuda\")\n",
    "        resid_out = {}\n",
    "\n",
    "        def hook_fn(module, _, output):\n",
    "            hidden = output[0] if isinstance(output, tuple) else output\n",
    "            resid_out[\"resid\"] = hidden.detach().cpu()\n",
    "\n",
    "        target_layer = llm.model.language_model.layers[layer_id]\n",
    "        h = target_layer.mlp.register_forward_hook(hook_fn)\n",
    "        _ = llm(**inputs)\n",
    "        h.remove()\n",
    "\n",
    "        if \"resid\" not in resid_out:\n",
    "            return None\n",
    "\n",
    "        resid = resid_out[\"resid\"][0]\n",
    "        ids = inputs[\"input_ids\"][0].cpu().tolist()\n",
    "        tokens = [tokenizer.decode([i]).strip() for i in ids]\n",
    "        word_l = word.lower()\n",
    "        matches = [i for i, t in enumerate(tokens) if word_l in t.lower()]\n",
    "        if not matches:\n",
    "            return None\n",
    "        idx = matches[0]\n",
    "        return resid[idx].to(torch.float32).numpy()\n",
    "\n",
    "    def cleanup_tensors():\n",
    "        gc.collect()\n",
    "        torch.cuda.empty_cache()\n",
    "        torch.cuda.synchronize()\n",
    "        for obj in gc.get_objects():\n",
    "            try:\n",
    "                if torch.is_tensor(obj):\n",
    "                    del obj\n",
    "            except:\n",
    "                pass\n",
    "        gc.collect()\n",
    "        torch.cuda.empty_cache()\n",
    "        torch.cuda.synchronize()\n",
    "\n",
    "    for word in tqdm(word_sentences.columns, desc=f\"Extracting residuals (layer {layer_id})\"):\n",
    "        sents = word_sentences[word].dropna().tolist()\n",
    "        vecs = []\n",
    "        for s in sents:\n",
    "            v = get_resid(s, word)\n",
    "            if v is not None:\n",
    "                vecs.append(v)\n",
    "        if len(vecs) > 0:\n",
    "            mean_vec = np.mean(vecs, axis=0)\n",
    "            np.savetxt(f\"{output_dir}/{word}.txt\", mean_vec)\n",
    "        else:\n",
    "            np.savetxt(f\"{output_dir}/{word}.txt\", np.array([]))\n",
    "        cleanup_tensors()\n",
    "\n",
    "    embeds = {}\n",
    "    for fname in os.listdir(output_dir):\n",
    "        if not fname.endswith(\".txt\"):\n",
    "            continue\n",
    "        word = os.path.splitext(fname)[0]\n",
    "        vec = np.loadtxt(os.path.join(output_dir, fname))\n",
    "        if vec.size > 0:\n",
    "            embeds[word] = vec\n",
    "\n",
    "    df = pd.DataFrame.from_dict(embeds, orient=\"index\")\n",
    "    pca = PCA(n_components=30, random_state=0)\n",
    "    embeds_30d = pca.fit_transform(df.values)\n",
    "    embeds_30d_df = pd.DataFrame(embeds_30d, index=df.index)\n",
    "    embeds_30d_df.to_csv(f\"{output_dir}/resid_embeddings_layer{layer_id}_30d.csv\")\n",
    "\n",
    "    return embeds_30d_df\n"
   ]
  },
  {
   "cell_type": "code",
   "execution_count": null,
   "id": "e0c8aa5e",
   "metadata": {},
   "outputs": [],
   "source": [
    "for i in range (1,45):\n",
    "    extract_and_reduce_resid_embeddings(llm, i)"
   ]
  },
  {
   "cell_type": "code",
   "execution_count": null,
   "id": "bfa604f0",
   "metadata": {},
   "outputs": [],
   "source": []
  },
  {
   "cell_type": "code",
   "execution_count": 20,
   "id": "a6a0cf23",
   "metadata": {},
   "outputs": [
    {
     "name": "stderr",
     "output_type": "stream",
     "text": [
      "/tmp/ipykernel_180021/4294184028.py:9: UserWarning: loadtxt: input contained no data: \"embed_wiki/applesauce.txt\"\n",
      "  vec = np.loadtxt(os.path.join(folder, fname))\n",
      "/tmp/ipykernel_180021/4294184028.py:9: UserWarning: loadtxt: input contained no data: \"embed_wiki/backscratcher.txt\"\n",
      "  vec = np.loadtxt(os.path.join(folder, fname))\n",
      "/tmp/ipykernel_180021/4294184028.py:9: UserWarning: loadtxt: input contained no data: \"embed_wiki/baklava.txt\"\n",
      "  vec = np.loadtxt(os.path.join(folder, fname))\n",
      "/tmp/ipykernel_180021/4294184028.py:9: UserWarning: loadtxt: input contained no data: \"embed_wiki/baseball glove.txt\"\n",
      "  vec = np.loadtxt(os.path.join(folder, fname))\n",
      "/tmp/ipykernel_180021/4294184028.py:9: UserWarning: loadtxt: input contained no data: \"embed_wiki/bassinet.txt\"\n",
      "  vec = np.loadtxt(os.path.join(folder, fname))\n",
      "/tmp/ipykernel_180021/4294184028.py:9: UserWarning: loadtxt: input contained no data: \"embed_wiki/bassoon.txt\"\n",
      "  vec = np.loadtxt(os.path.join(folder, fname))\n",
      "/tmp/ipykernel_180021/4294184028.py:9: UserWarning: loadtxt: input contained no data: \"embed_wiki/beachball.txt\"\n",
      "  vec = np.loadtxt(os.path.join(folder, fname))\n",
      "/tmp/ipykernel_180021/4294184028.py:9: UserWarning: loadtxt: input contained no data: \"embed_wiki/beanbag.txt\"\n",
      "  vec = np.loadtxt(os.path.join(folder, fname))\n",
      "/tmp/ipykernel_180021/4294184028.py:9: UserWarning: loadtxt: input contained no data: \"embed_wiki/bok choy.txt\"\n",
      "  vec = np.loadtxt(os.path.join(folder, fname))\n",
      "/tmp/ipykernel_180021/4294184028.py:9: UserWarning: loadtxt: input contained no data: \"embed_wiki/bongo.txt\"\n",
      "  vec = np.loadtxt(os.path.join(folder, fname))\n",
      "/tmp/ipykernel_180021/4294184028.py:9: UserWarning: loadtxt: input contained no data: \"embed_wiki/cannonball.txt\"\n",
      "  vec = np.loadtxt(os.path.join(folder, fname))\n",
      "/tmp/ipykernel_180021/4294184028.py:9: UserWarning: loadtxt: input contained no data: \"embed_wiki/chaps.txt\"\n",
      "  vec = np.loadtxt(os.path.join(folder, fname))\n",
      "/tmp/ipykernel_180021/4294184028.py:9: UserWarning: loadtxt: input contained no data: \"embed_wiki/chipmunk.txt\"\n",
      "  vec = np.loadtxt(os.path.join(folder, fname))\n",
      "/tmp/ipykernel_180021/4294184028.py:9: UserWarning: loadtxt: input contained no data: \"embed_wiki/computer screen.txt\"\n",
      "  vec = np.loadtxt(os.path.join(folder, fname))\n",
      "/tmp/ipykernel_180021/4294184028.py:9: UserWarning: loadtxt: input contained no data: \"embed_wiki/cymbal.txt\"\n",
      "  vec = np.loadtxt(os.path.join(folder, fname))\n",
      "/tmp/ipykernel_180021/4294184028.py:9: UserWarning: loadtxt: input contained no data: \"embed_wiki/doily.txt\"\n",
      "  vec = np.loadtxt(os.path.join(folder, fname))\n",
      "/tmp/ipykernel_180021/4294184028.py:9: UserWarning: loadtxt: input contained no data: \"embed_wiki/doorknob.txt\"\n",
      "  vec = np.loadtxt(os.path.join(folder, fname))\n",
      "/tmp/ipykernel_180021/4294184028.py:9: UserWarning: loadtxt: input contained no data: \"embed_wiki/doorknocker.txt\"\n",
      "  vec = np.loadtxt(os.path.join(folder, fname))\n",
      "/tmp/ipykernel_180021/4294184028.py:9: UserWarning: loadtxt: input contained no data: \"embed_wiki/enchilada.txt\"\n",
      "  vec = np.loadtxt(os.path.join(folder, fname))\n",
      "/tmp/ipykernel_180021/4294184028.py:9: UserWarning: loadtxt: input contained no data: \"embed_wiki/exhaust pipe.txt\"\n",
      "  vec = np.loadtxt(os.path.join(folder, fname))\n",
      "/tmp/ipykernel_180021/4294184028.py:9: UserWarning: loadtxt: input contained no data: \"embed_wiki/fire alarm.txt\"\n",
      "  vec = np.loadtxt(os.path.join(folder, fname))\n",
      "/tmp/ipykernel_180021/4294184028.py:9: UserWarning: loadtxt: input contained no data: \"embed_wiki/fishbowl.txt\"\n",
      "  vec = np.loadtxt(os.path.join(folder, fname))\n",
      "/tmp/ipykernel_180021/4294184028.py:9: UserWarning: loadtxt: input contained no data: \"embed_wiki/grasshopper.txt\"\n",
      "  vec = np.loadtxt(os.path.join(folder, fname))\n",
      "/tmp/ipykernel_180021/4294184028.py:9: UserWarning: loadtxt: input contained no data: \"embed_wiki/hatchet.txt\"\n",
      "  vec = np.loadtxt(os.path.join(folder, fname))\n",
      "/tmp/ipykernel_180021/4294184028.py:9: UserWarning: loadtxt: input contained no data: \"embed_wiki/honeypot.txt\"\n",
      "  vec = np.loadtxt(os.path.join(folder, fname))\n",
      "/tmp/ipykernel_180021/4294184028.py:9: UserWarning: loadtxt: input contained no data: \"embed_wiki/hot-air balloon.txt\"\n",
      "  vec = np.loadtxt(os.path.join(folder, fname))\n",
      "/tmp/ipykernel_180021/4294184028.py:9: UserWarning: loadtxt: input contained no data: \"embed_wiki/hula hoop.txt\"\n",
      "  vec = np.loadtxt(os.path.join(folder, fname))\n",
      "/tmp/ipykernel_180021/4294184028.py:9: UserWarning: loadtxt: input contained no data: \"embed_wiki/humvee.txt\"\n",
      "  vec = np.loadtxt(os.path.join(folder, fname))\n",
      "/tmp/ipykernel_180021/4294184028.py:9: UserWarning: loadtxt: input contained no data: \"embed_wiki/hyena.txt\"\n",
      "  vec = np.loadtxt(os.path.join(folder, fname))\n",
      "/tmp/ipykernel_180021/4294184028.py:9: UserWarning: loadtxt: input contained no data: \"embed_wiki/iguana.txt\"\n",
      "  vec = np.loadtxt(os.path.join(folder, fname))\n",
      "/tmp/ipykernel_180021/4294184028.py:9: UserWarning: loadtxt: input contained no data: \"embed_wiki/kilt.txt\"\n",
      "  vec = np.loadtxt(os.path.join(folder, fname))\n",
      "/tmp/ipykernel_180021/4294184028.py:9: UserWarning: loadtxt: input contained no data: \"embed_wiki/kneepad.txt\"\n",
      "  vec = np.loadtxt(os.path.join(folder, fname))\n",
      "/tmp/ipykernel_180021/4294184028.py:9: UserWarning: loadtxt: input contained no data: \"embed_wiki/knitting needle.txt\"\n",
      "  vec = np.loadtxt(os.path.join(folder, fname))\n",
      "/tmp/ipykernel_180021/4294184028.py:9: UserWarning: loadtxt: input contained no data: \"embed_wiki/lawnmower.txt\"\n",
      "  vec = np.loadtxt(os.path.join(folder, fname))\n",
      "/tmp/ipykernel_180021/4294184028.py:9: UserWarning: loadtxt: input contained no data: \"embed_wiki/leek.txt\"\n",
      "  vec = np.loadtxt(os.path.join(folder, fname))\n",
      "/tmp/ipykernel_180021/4294184028.py:9: UserWarning: loadtxt: input contained no data: \"embed_wiki/mashed potato.txt\"\n",
      "  vec = np.loadtxt(os.path.join(folder, fname))\n",
      "/tmp/ipykernel_180021/4294184028.py:9: UserWarning: loadtxt: input contained no data: \"embed_wiki/parfait.txt\"\n",
      "  vec = np.loadtxt(os.path.join(folder, fname))\n",
      "/tmp/ipykernel_180021/4294184028.py:9: UserWarning: loadtxt: input contained no data: \"embed_wiki/pinball.txt\"\n",
      "  vec = np.loadtxt(os.path.join(folder, fname))\n",
      "/tmp/ipykernel_180021/4294184028.py:9: UserWarning: loadtxt: input contained no data: \"embed_wiki/pocket watch.txt\"\n",
      "  vec = np.loadtxt(os.path.join(folder, fname))\n",
      "/tmp/ipykernel_180021/4294184028.py:9: UserWarning: loadtxt: input contained no data: \"embed_wiki/puffin.txt\"\n",
      "  vec = np.loadtxt(os.path.join(folder, fname))\n",
      "/tmp/ipykernel_180021/4294184028.py:9: UserWarning: loadtxt: input contained no data: \"embed_wiki/quesadilla.txt\"\n",
      "  vec = np.loadtxt(os.path.join(folder, fname))\n",
      "/tmp/ipykernel_180021/4294184028.py:9: UserWarning: loadtxt: input contained no data: \"embed_wiki/quiche.txt\"\n",
      "  vec = np.loadtxt(os.path.join(folder, fname))\n",
      "/tmp/ipykernel_180021/4294184028.py:9: UserWarning: loadtxt: input contained no data: \"embed_wiki/ravioli.txt\"\n",
      "  vec = np.loadtxt(os.path.join(folder, fname))\n",
      "/tmp/ipykernel_180021/4294184028.py:9: UserWarning: loadtxt: input contained no data: \"embed_wiki/sea urchin.txt\"\n",
      "  vec = np.loadtxt(os.path.join(folder, fname))\n",
      "/tmp/ipykernel_180021/4294184028.py:9: UserWarning: loadtxt: input contained no data: \"embed_wiki/shuffleboard.txt\"\n",
      "  vec = np.loadtxt(os.path.join(folder, fname))\n",
      "/tmp/ipykernel_180021/4294184028.py:9: UserWarning: loadtxt: input contained no data: \"embed_wiki/taillight.txt\"\n",
      "  vec = np.loadtxt(os.path.join(folder, fname))\n",
      "/tmp/ipykernel_180021/4294184028.py:9: UserWarning: loadtxt: input contained no data: \"embed_wiki/tarantula.txt\"\n",
      "  vec = np.loadtxt(os.path.join(folder, fname))\n",
      "/tmp/ipykernel_180021/4294184028.py:9: UserWarning: loadtxt: input contained no data: \"embed_wiki/tennis ball.txt\"\n",
      "  vec = np.loadtxt(os.path.join(folder, fname))\n",
      "/tmp/ipykernel_180021/4294184028.py:9: UserWarning: loadtxt: input contained no data: \"embed_wiki/toilet paper.txt\"\n",
      "  vec = np.loadtxt(os.path.join(folder, fname))\n",
      "/tmp/ipykernel_180021/4294184028.py:9: UserWarning: loadtxt: input contained no data: \"embed_wiki/tortellini.txt\"\n",
      "  vec = np.loadtxt(os.path.join(folder, fname))\n",
      "/tmp/ipykernel_180021/4294184028.py:9: UserWarning: loadtxt: input contained no data: \"embed_wiki/trowel.txt\"\n",
      "  vec = np.loadtxt(os.path.join(folder, fname))\n"
     ]
    }
   ],
   "source": [
    "\n",
    "from sklearn.decomposition import PCA\n",
    "\n",
    "folder = \"embed_wiki\"\n",
    "embeds = {}\n",
    "for fname in os.listdir(folder):\n",
    "    if not fname.endswith(\".txt\"):\n",
    "        continue\n",
    "    word = os.path.splitext(fname)[0]\n",
    "    vec = np.loadtxt(os.path.join(folder, fname))\n",
    "    if vec.size > 0:\n",
    "        embeds[word] = vec\n",
    "\n",
    "df = pd.DataFrame.from_dict(embeds, orient=\"index\")\n",
    "\n",
    "pca = PCA(n_components=30, random_state=0)\n",
    "embeds_30d = pca.fit_transform(df.values)\n",
    "embeds_30d_df = pd.DataFrame(embeds_30d, index=df.index)\n",
    "\n",
    "embeds_30d_df.to_csv(\"wiki_embeddings_30d.csv\")\n"
   ]
  },
  {
   "cell_type": "code",
   "execution_count": 33,
   "id": "d123f260",
   "metadata": {},
   "outputs": [],
   "source": [
    "embed_20 = pd.read_csv(\"embed_wiki/resid_embeddings_layer20_30d.csv\")"
   ]
  },
  {
   "cell_type": "code",
   "execution_count": 38,
   "id": "9bb49e7a",
   "metadata": {},
   "outputs": [
    {
     "data": {
      "image/png": "[encoded data removed]",
      "text/plain": [
       "<Figure size 800x800 with 1 Axes>"
      ]
     },
     "metadata": {},
     "output_type": "display_data"
    }
   ],
   "source": [
    "import matplotlib.pyplot as plt\n",
    "\n",
    "df = embed_20.copy()\n",
    "if \"Unnamed: 0\" in df.columns:\n",
    "    labels = df[\"Unnamed: 0\"]\n",
    "    df = df.drop(columns=[\"Unnamed: 0\"])\n",
    "else:\n",
    "    labels = df.index\n",
    "\n",
    "# ensure numeric column names\n",
    "df.columns = [str(c) for c in df.columns]\n",
    "\n",
    "plt.figure(figsize=(8, 8))\n",
    "plt.scatter(df[\"4\"], df[\"7\"], s=10, alpha=0.7)\n",
    "\n",
    "\n",
    "plt.xlabel(\"PC1\")\n",
    "plt.ylabel(\"PC2\")\n",
    "plt.title(\"PCA Projection (zoomed to ±50)\")\n",
    "\n",
    "for i, label in enumerate(labels):\n",
    "    plt.text(df.iloc[i, 0], df.iloc[i, 1], label, fontsize=7, alpha=0.6)\n",
    "\n",
    "plt.show()\n"
   ]
  }
 ],
 "metadata": {
  "kernelspec": {
   "display_name": "sae_concepts_env",
   "language": "python",
   "name": "python3"
  },
  "language_info": {
   "codemirror_mode": {
    "name": "ipython",
    "version": 3
   },
   "file_extension": ".py",
   "mimetype": "text/x-python",
   "name": "python",
   "nbconvert_exporter": "python",
   "pygments_lexer": "ipython3",
   "version": "3.11.11"
  }
 },
 "nbformat": 4,
 "nbformat_minor": 5
}

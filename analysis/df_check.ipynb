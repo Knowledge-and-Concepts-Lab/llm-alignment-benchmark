{
 "cells": [
  {
   "cell_type": "code",
   "execution_count": 1,
   "id": "7eeb0d71",
   "metadata": {},
   "outputs": [],
   "source": [
    "import pandas as pd"
   ]
  },
  {
   "cell_type": "code",
   "execution_count": 5,
   "id": "dfc6865c",
   "metadata": {},
   "outputs": [],
   "source": [
    "meta_df = pd.read_csv(\"../data/spose/neurips_DB_human_clean.csv\")"
   ]
  },
  {
   "cell_type": "code",
   "execution_count": 7,
   "id": "6473470d",
   "metadata": {},
   "outputs": [
    {
     "name": "stdout",
     "output_type": "stream",
     "text": [
      "128\n"
     ]
    }
   ],
   "source": [
    "unique_count = meta_df[\"concept\"].nunique()\n",
    "print(unique_count)\n"
   ]
  },
  {
   "cell_type": "code",
   "execution_count": 8,
   "id": "a6d076b3",
   "metadata": {},
   "outputs": [
    {
     "name": "stdout",
     "output_type": "stream",
     "text": [
      "['beachball' 'bathrobe' 'taillight' 'knob' 'beanie' 'treadmill' 'beanbag'\n",
      " 'doily' 'souffle' 'humvee' 'hot-air balloon' 'stew' 'cymbal' 'gravy'\n",
      " 'taxi' 'hyena' 'grasshopper' 'chaps' 'bongo' 'hat' 'kimono' 'hula hoop'\n",
      " 'bag' 'tarantula' 'hatchet' 'quiche' 'applesauce' 'swab' 'doorknob'\n",
      " 'appetizer' 'bear' 'quesadilla' 'tortellini' 'hummus' 'honeypot'\n",
      " 'uniform' 'chainsaw' 'airbag' 'bok choy' 'shuffleboard' 'ravioli' 'bed'\n",
      " 'tennis ball' 'grapefruit' 'trowel' 'thermos' 'dessert' 'chipmunk'\n",
      " 'computer screen' 'bassoon' 'cannonball' 'tuxedo' 'butterfly' 'button'\n",
      " 'snail' 'carriage' 'badger' 'skeleton' 'toilet paper' 'backscratcher'\n",
      " 'tank' 'bracelet' 'coaster' 'baklava' 'mashed potato' 'owl' 'mouse'\n",
      " 'vase' 'volleyball' 'cow' 'pocket watch' 'missile' 'fire alarm' 'crib'\n",
      " 'parrot' 'puffin' 'visor' 'gourd' 'margarita' 'mosquito' 'cot' 'banjo'\n",
      " 'flower' 'baseball' 'pinball' 'bread' 'bench' 'couch' 'crepe'\n",
      " 'baseball glove' 'exhaust pipe' 'beer' 'bassinet' 'cupcake'\n",
      " 'knitting needle' 'mango' 'milkshake' 'fly' 'parfait' 'extinguisher'\n",
      " 'lawnmower' 'sea urchin' 'bathtub' 'canvas' 'giraffe' 'cooker'\n",
      " 'doorknocker' 'album' 'leek' 'crow' 'wrap' 'kneepad' 'guitar' 'waffle'\n",
      " 'jeans' 'veil' 'kilt' 'blower' 'fishbowl' 'snake' 'odometer' 'enchilada'\n",
      " 'pumpkin' 'bow' 'lion' 'oatmeal' 'iguana' 'dough']\n"
     ]
    }
   ],
   "source": [
    "unique_values = meta_df[\"concept\"].unique()\n",
    "print(unique_values)\n"
   ]
  },
  {
   "cell_type": "code",
   "execution_count": null,
   "id": "4a3959da",
   "metadata": {},
   "outputs": [],
   "source": [
    "input_df = pd.read_csv(\"../results/1a/embed_in/gemma-3-1b-it/model_triplet_output_gemma-3-1b-it_THINGS.csv\")"
   ]
  }
 ],
 "metadata": {
  "kernelspec": {
   "display_name": "Python (sae_concepts_env)",
   "language": "python",
   "name": "sae_concepts_env"
  }
 },
 "nbformat": 4,
 "nbformat_minor": 5
}

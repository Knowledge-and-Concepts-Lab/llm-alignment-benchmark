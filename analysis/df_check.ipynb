{
 "cells": [
  {
   "cell_type": "code",
   "execution_count": null,
   "id": "7eeb0d71",
   "metadata": {},
   "outputs": [],
   "source": [
    "import pandas as pd"
   ]
  }
 ],
 "metadata": {
  "kernelspec": {
   "display_name": "Python (sae_concepts_env)",
   "language": "python",
   "name": "sae_concepts_env"
  }
 },
 "nbformat": 4,
 "nbformat_minor": 5
}
